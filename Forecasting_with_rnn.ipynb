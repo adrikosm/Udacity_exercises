{
  "nbformat": 4,
  "nbformat_minor": 0,
  "metadata": {
    "colab": {
      "name": "Forecasting_with_rnn.ipynb",
      "provenance": []
    },
    "kernelspec": {
      "name": "python3",
      "display_name": "Python 3"
    },
    "language_info": {
      "name": "python"
    },
    "accelerator": "GPU"
  },
  "cells": [
    {
      "cell_type": "markdown",
      "metadata": {
        "id": "XUAGM3fgXH-n"
      },
      "source": [
        "# Imports"
      ]
    },
    {
      "cell_type": "code",
      "metadata": {
        "id": "vwfzWYwxW7gm"
      },
      "source": [
        "import tensorflow as tf\n",
        "import numpy as np\n",
        "import pandas as pd\n",
        "import matplotlib.pyplot as plt\n",
        "\n",
        "keras = tf.keras"
      ],
      "execution_count": 20,
      "outputs": []
    },
    {
      "cell_type": "markdown",
      "metadata": {
        "id": "ODI_FdaPXLGq"
      },
      "source": [
        "# Functions"
      ]
    },
    {
      "cell_type": "code",
      "metadata": {
        "id": "eP2P3OYuXHOT"
      },
      "source": [
        "def plot_series(time,series,format='-',start=0,end=None,label=None):\n",
        "      \"\"\"\n",
        "      Plots a time series\n",
        "      If the label != None, Sets a legend \n",
        "      \"\"\"\n",
        "      plt.plot(time[start:end],series[start:end],format,label=label)\n",
        "      plt.xlabel('Time')\n",
        "      plt.ylabel('Value')\n",
        "      if label:\n",
        "        plt.legend(fontsize=14)\n",
        "      plt.grid(True)"
      ],
      "execution_count": 21,
      "outputs": []
    },
    {
      "cell_type": "code",
      "metadata": {
        "id": "TzGPaOMMXvbw"
      },
      "source": [
        "def trend(time,slope=0):\n",
        "  return slope * time"
      ],
      "execution_count": 22,
      "outputs": []
    },
    {
      "cell_type": "code",
      "metadata": {
        "id": "BCfovUyoX4ZK"
      },
      "source": [
        "def seasonal_pattern(season_time):\n",
        "  return np.where(season_time < 0.4,\n",
        "                  np.cos(season_time * 2 * np.pi),\n",
        "                  1/ np .exp(3* season_time))"
      ],
      "execution_count": 23,
      "outputs": []
    },
    {
      "cell_type": "code",
      "metadata": {
        "id": "5hc83vNTYDiP"
      },
      "source": [
        "def seasonality(time,period,amplitude=1,phase=0):\n",
        "  season_time = ((time + phase) % period) / period\n",
        "  return amplitude * seasonal_pattern(season_time)"
      ],
      "execution_count": 24,
      "outputs": []
    },
    {
      "cell_type": "code",
      "metadata": {
        "id": "hklTyECOYUgh"
      },
      "source": [
        "def white_noise(time,noise_level=1,seed=None):\n",
        "  rnd = np.random.RandomState(seed)\n",
        "  return rnd.randn(len(time)) * noise_level"
      ],
      "execution_count": 25,
      "outputs": []
    },
    {
      "cell_type": "code",
      "metadata": {
        "id": "2cjYa-DGYgQx"
      },
      "source": [
        "def window_dataset(series,window_size,batch_size=32,\n",
        "                   shuffle_buffer=1000):\n",
        "  dataset = tf.data.Dataset.from_tensor_slices(series)\n",
        "  dataset = dataset.window(window_size + 1 , shift=1,drop_remainder=True)\n",
        "  dataset = dataset.flat_map(lambda window : window.batch(window_size +1))\n",
        "  dataset = dataset.shuffle(shuffle_buffer)\n",
        "  dataset = dataset.map(lambda window: (window[:-1],window[-1]))\n",
        "  dataset = dataset.batch(batch_size).prefetch(1)\n",
        "\n",
        "  return dataset"
      ],
      "execution_count": 26,
      "outputs": []
    },
    {
      "cell_type": "code",
      "metadata": {
        "id": "95oKaQCbZWuV"
      },
      "source": [
        "def model_forecast(model,series,window_size):\n",
        "  \"\"\"\n",
        "  Turns the series into a tensor\n",
        "  Then it uses the model to make predictions on it\n",
        "  returns the predictions\n",
        "  \"\"\"\n",
        "  ds = tf.data.Dataset.from_tensor_slices(series)\n",
        "  ds = ds.window(window_size,shift=1,drop_remainder=True)\n",
        "  ds = ds.flat_map(lambda w: w.batch(window_size))\n",
        "  ds = ds.batch(32).prefetch(1)\n",
        "  forecast = model.predict(ds)\n",
        "  return forecast"
      ],
      "execution_count": 27,
      "outputs": []
    },
    {
      "cell_type": "markdown",
      "metadata": {
        "id": "4TunJNIZZ9ek"
      },
      "source": [
        "# Setting up the data"
      ]
    },
    {
      "cell_type": "code",
      "metadata": {
        "colab": {
          "base_uri": "https://localhost:8080/",
          "height": 388
        },
        "id": "qvHiqBauZ5o9",
        "outputId": "99fd54e2-6b78-410d-c3e8-a649be7e3a6b"
      },
      "source": [
        "time = np.arange(4 * 365 + 1)\n",
        "\n",
        "slope = 0.05\n",
        "baseline = 10\n",
        "amplitude = 40\n",
        "series = baseline + trend(time, slope) + seasonality(time, period=365, amplitude=amplitude)\n",
        "\n",
        "noise_level = 5\n",
        "noise = white_noise(time, noise_level, seed=42)\n",
        "\n",
        "series += noise\n",
        "\n",
        "plt.figure(figsize=(10, 6))\n",
        "plot_series(time, series)\n",
        "plt.show()"
      ],
      "execution_count": 28,
      "outputs": [
        {
          "output_type": "display_data",
          "data": {
            "image/png": "[encoded data removed]",
            "text/plain": [
              "<Figure size 720x432 with 1 Axes>"
            ]
          },
          "metadata": {
            "tags": [],
            "needs_background": "light"
          }
        }
      ]
    },
    {
      "cell_type": "code",
      "metadata": {
        "id": "Jiv0RJ5YaO2r"
      },
      "source": [
        "split_time = 1000\n",
        "time_train = time[:split_time]\n",
        "x_train = series[:split_time]\n",
        "\n",
        "time_valid = time[split_time:]\n",
        "x_valid = series[split_time:]"
      ],
      "execution_count": 29,
      "outputs": []
    },
    {
      "cell_type": "markdown",
      "metadata": {
        "id": "MRLx8yCrbFih"
      },
      "source": [
        "# RNN forecasting "
      ]
    },
    {
      "cell_type": "code",
      "metadata": {
        "colab": {
          "base_uri": "https://localhost:8080/"
        },
        "id": "4u2SMhYjbE-T",
        "outputId": "8c3dfbe6-0a47-42d7-98ee-ba8f69e0722a"
      },
      "source": [
        "keras.backend.clear_session()\n",
        "tf.random.set_seed(42)\n",
        "np.random.seed(42)\n",
        "\n",
        "window_size = 30\n",
        "\n",
        "train_set = window_dataset(x_train,window_size,batch_size=128)\n",
        "\n",
        "model = keras.models.Sequential([\n",
        "  keras.layers.Lambda(lambda x: tf.expand_dims(x, axis=-1),\n",
        "                      input_shape=[None]),\n",
        "  keras.layers.SimpleRNN(100, return_sequences=True),\n",
        "  keras.layers.SimpleRNN(100),\n",
        "  keras.layers.Dense(1),\n",
        "  keras.layers.Lambda(lambda x: x * 200.0)\n",
        "])\n",
        "\n",
        "lr_schedule = keras.callbacks.LearningRateScheduler(\n",
        "    lambda epoch : 1e-7 * 10 **(epoch /20))\n",
        "\n",
        "optimizer = keras.optimizers.SGD(lr=1e-7,momentum=0.9)\n",
        "\n",
        "model.compile(loss = keras.losses.Huber(),\n",
        "              optimizer = optimizer,\n",
        "              metrics=['mae'])\n",
        "\n",
        "history = model.fit(train_set,\n",
        "                    epochs=100,\n",
        "                    callbacks=[lr_schedule])"
      ],
      "execution_count": 31,
      "outputs": [
        {
          "output_type": "stream",
          "text": [
            "Epoch 1/100\n",
            "8/8 [==============================] - 4s 46ms/step - loss: 56.7843 - mae: 57.2842\n",
            "Epoch 2/100\n",
            "8/8 [==============================] - 0s 42ms/step - loss: 20.7913 - mae: 21.2817\n",
            "Epoch 3/100\n",
            "8/8 [==============================] - 0s 50ms/step - loss: 21.4339 - mae: 21.9282\n",
            "Epoch 4/100\n",
            "8/8 [==============================] - 0s 42ms/step - loss: 17.3767 - mae: 17.8684\n",
            "Epoch 5/100\n",
            "8/8 [==============================] - 0s 40ms/step - loss: 15.5281 - mae: 16.0178\n",
            "Epoch 6/100\n",
            "8/8 [==============================] - 0s 43ms/step - loss: 14.7527 - mae: 15.2405\n",
            "Epoch 7/100\n",
            "8/8 [==============================] - 0s 39ms/step - loss: 15.4067 - mae: 15.8935\n",
            "Epoch 8/100\n",
            "8/8 [==============================] - 0s 45ms/step - loss: 15.3333 - mae: 15.8238\n",
            "Epoch 9/100\n",
            "8/8 [==============================] - 0s 37ms/step - loss: 14.1437 - mae: 14.6292\n",
            "Epoch 10/100\n",
            "8/8 [==============================] - 0s 40ms/step - loss: 13.8240 - mae: 14.3111\n",
            "Epoch 11/100\n",
            "8/8 [==============================] - 0s 37ms/step - loss: 13.5632 - mae: 14.0512\n",
            "Epoch 12/100\n",
            "8/8 [==============================] - 0s 44ms/step - loss: 14.0125 - mae: 14.4983\n",
            "Epoch 13/100\n",
            "8/8 [==============================] - 0s 40ms/step - loss: 13.5015 - mae: 13.9874\n",
            "Epoch 14/100\n",
            "8/8 [==============================] - 0s 36ms/step - loss: 11.6437 - mae: 12.1294\n",
            "Epoch 15/100\n",
            "8/8 [==============================] - 0s 35ms/step - loss: 11.3404 - mae: 11.8287\n",
            "Epoch 16/100\n",
            "8/8 [==============================] - 0s 42ms/step - loss: 11.8000 - mae: 12.2856\n",
            "Epoch 17/100\n",
            "8/8 [==============================] - 0s 43ms/step - loss: 11.5397 - mae: 12.0277\n",
            "Epoch 18/100\n",
            "8/8 [==============================] - 0s 39ms/step - loss: 11.4592 - mae: 11.9473\n",
            "Epoch 19/100\n",
            "8/8 [==============================] - 0s 39ms/step - loss: 10.6324 - mae: 11.1188\n",
            "Epoch 20/100\n",
            "8/8 [==============================] - 0s 46ms/step - loss: 10.5606 - mae: 11.0401\n",
            "Epoch 21/100\n",
            "8/8 [==============================] - 0s 48ms/step - loss: 11.2549 - mae: 11.7410\n",
            "Epoch 22/100\n",
            "8/8 [==============================] - 0s 37ms/step - loss: 9.9531 - mae: 10.4390\n",
            "Epoch 23/100\n",
            "8/8 [==============================] - 0s 53ms/step - loss: 10.4642 - mae: 10.9484\n",
            "Epoch 24/100\n",
            "8/8 [==============================] - 0s 53ms/step - loss: 10.4736 - mae: 10.9615\n",
            "Epoch 25/100\n",
            "8/8 [==============================] - 0s 42ms/step - loss: 10.2432 - mae: 10.7259\n",
            "Epoch 26/100\n",
            "8/8 [==============================] - 1s 52ms/step - loss: 12.6571 - mae: 13.1471\n",
            "Epoch 27/100\n",
            "8/8 [==============================] - 0s 51ms/step - loss: 10.0726 - mae: 10.5628\n",
            "Epoch 28/100\n",
            "8/8 [==============================] - 0s 52ms/step - loss: 9.3500 - mae: 9.8397\n",
            "Epoch 29/100\n",
            "8/8 [==============================] - 0s 45ms/step - loss: 10.5387 - mae: 11.0258\n",
            "Epoch 30/100\n",
            "8/8 [==============================] - 0s 38ms/step - loss: 13.1140 - mae: 13.6087\n",
            "Epoch 31/100\n",
            "8/8 [==============================] - 0s 36ms/step - loss: 21.9677 - mae: 22.4663\n",
            "Epoch 32/100\n",
            "8/8 [==============================] - 0s 37ms/step - loss: 18.6655 - mae: 19.1643\n",
            "Epoch 33/100\n",
            "8/8 [==============================] - 0s 40ms/step - loss: 18.3704 - mae: 18.8687\n",
            "Epoch 34/100\n",
            "8/8 [==============================] - 0s 39ms/step - loss: 18.4115 - mae: 18.9033\n",
            "Epoch 35/100\n",
            "8/8 [==============================] - 0s 38ms/step - loss: 17.8728 - mae: 18.3678\n",
            "Epoch 36/100\n",
            "8/8 [==============================] - 0s 35ms/step - loss: 17.9193 - mae: 18.4159\n",
            "Epoch 37/100\n",
            "8/8 [==============================] - 0s 48ms/step - loss: 18.0441 - mae: 18.5386\n",
            "Epoch 38/100\n",
            "8/8 [==============================] - 0s 39ms/step - loss: 27.1294 - mae: 27.6262\n",
            "Epoch 39/100\n",
            "8/8 [==============================] - 0s 36ms/step - loss: 21.8401 - mae: 22.3371\n",
            "Epoch 40/100\n",
            "8/8 [==============================] - 0s 40ms/step - loss: 8.5423 - mae: 9.0306\n",
            "Epoch 41/100\n",
            "8/8 [==============================] - 0s 35ms/step - loss: 13.8207 - mae: 14.3169\n",
            "Epoch 42/100\n",
            "8/8 [==============================] - 0s 43ms/step - loss: 29.6059 - mae: 30.1032\n",
            "Epoch 43/100\n",
            "8/8 [==============================] - 0s 38ms/step - loss: 65.1510 - mae: 65.6484\n",
            "Epoch 44/100\n",
            "8/8 [==============================] - 0s 35ms/step - loss: 47.8236 - mae: 48.3228\n",
            "Epoch 45/100\n",
            "8/8 [==============================] - 0s 40ms/step - loss: 57.4789 - mae: 57.9787\n",
            "Epoch 46/100\n",
            "8/8 [==============================] - 0s 47ms/step - loss: 59.1749 - mae: 59.6747\n",
            "Epoch 47/100\n",
            "8/8 [==============================] - 0s 48ms/step - loss: 51.7890 - mae: 52.2889\n",
            "Epoch 48/100\n",
            "8/8 [==============================] - 0s 41ms/step - loss: 62.9323 - mae: 63.4321\n",
            "Epoch 49/100\n",
            "8/8 [==============================] - 0s 45ms/step - loss: 62.6741 - mae: 63.1741\n",
            "Epoch 50/100\n",
            "8/8 [==============================] - 0s 53ms/step - loss: 58.6227 - mae: 59.1208\n",
            "Epoch 51/100\n",
            "8/8 [==============================] - 0s 40ms/step - loss: 17.5455 - mae: 18.0380\n",
            "Epoch 52/100\n",
            "8/8 [==============================] - 0s 38ms/step - loss: 46.1972 - mae: 46.6962\n",
            "Epoch 53/100\n",
            "8/8 [==============================] - 0s 46ms/step - loss: 51.3758 - mae: 51.8755\n",
            "Epoch 54/100\n",
            "8/8 [==============================] - 0s 52ms/step - loss: 29.5620 - mae: 30.0571\n",
            "Epoch 55/100\n",
            "8/8 [==============================] - 0s 48ms/step - loss: 28.6073 - mae: 29.1035\n",
            "Epoch 56/100\n",
            "8/8 [==============================] - 0s 39ms/step - loss: 80.4976 - mae: 80.9972\n",
            "Epoch 57/100\n",
            "8/8 [==============================] - 0s 42ms/step - loss: 68.2222 - mae: 68.7218\n",
            "Epoch 58/100\n",
            "8/8 [==============================] - 0s 37ms/step - loss: 69.6420 - mae: 70.1419\n",
            "Epoch 59/100\n",
            "8/8 [==============================] - 0s 35ms/step - loss: 76.4185 - mae: 76.9184\n",
            "Epoch 60/100\n",
            "8/8 [==============================] - 0s 43ms/step - loss: 70.4520 - mae: 70.9520\n",
            "Epoch 61/100\n",
            "8/8 [==============================] - 0s 35ms/step - loss: 76.3257 - mae: 76.8257\n",
            "Epoch 62/100\n",
            "8/8 [==============================] - 0s 34ms/step - loss: 85.7852 - mae: 86.2852\n",
            "Epoch 63/100\n",
            "8/8 [==============================] - 0s 51ms/step - loss: 142.8329 - mae: 143.3329\n",
            "Epoch 64/100\n",
            "8/8 [==============================] - 0s 44ms/step - loss: 129.8108 - mae: 130.3108\n",
            "Epoch 65/100\n",
            "8/8 [==============================] - 0s 44ms/step - loss: 166.1188 - mae: 166.6184\n",
            "Epoch 66/100\n",
            "8/8 [==============================] - 0s 40ms/step - loss: 212.7285 - mae: 213.2285\n",
            "Epoch 67/100\n",
            "8/8 [==============================] - 0s 35ms/step - loss: 128.5186 - mae: 129.0179\n",
            "Epoch 68/100\n",
            "8/8 [==============================] - 0s 34ms/step - loss: 173.0013 - mae: 173.4979\n",
            "Epoch 69/100\n",
            "8/8 [==============================] - 0s 37ms/step - loss: 370.7930 - mae: 371.2925\n",
            "Epoch 70/100\n",
            "8/8 [==============================] - 0s 37ms/step - loss: 437.5363 - mae: 438.0363\n",
            "Epoch 71/100\n",
            "8/8 [==============================] - 0s 40ms/step - loss: 517.1947 - mae: 517.6947\n",
            "Epoch 72/100\n",
            "8/8 [==============================] - 0s 36ms/step - loss: 605.8589 - mae: 606.3589\n",
            "Epoch 73/100\n",
            "8/8 [==============================] - 0s 42ms/step - loss: 798.6762 - mae: 799.1763\n",
            "Epoch 74/100\n",
            "8/8 [==============================] - 0s 37ms/step - loss: 661.0660 - mae: 661.5659\n",
            "Epoch 75/100\n",
            "8/8 [==============================] - 0s 40ms/step - loss: 602.7757 - mae: 603.2753\n",
            "Epoch 76/100\n",
            "8/8 [==============================] - 0s 37ms/step - loss: 1093.6642 - mae: 1094.1642\n",
            "Epoch 77/100\n",
            "8/8 [==============================] - 0s 39ms/step - loss: 1016.7182 - mae: 1017.2182\n",
            "Epoch 78/100\n",
            "8/8 [==============================] - 0s 43ms/step - loss: 1352.4730 - mae: 1352.9730\n",
            "Epoch 79/100\n",
            "8/8 [==============================] - 0s 40ms/step - loss: 2845.2695 - mae: 2845.7695\n",
            "Epoch 80/100\n",
            "8/8 [==============================] - 0s 39ms/step - loss: 3890.3564 - mae: 3890.8564\n",
            "Epoch 81/100\n",
            "8/8 [==============================] - 0s 45ms/step - loss: 4838.1814 - mae: 4838.6814\n",
            "Epoch 82/100\n",
            "8/8 [==============================] - 0s 40ms/step - loss: 3887.2048 - mae: 3887.7048\n",
            "Epoch 83/100\n",
            "8/8 [==============================] - 0s 37ms/step - loss: 4828.9565 - mae: 4829.4565\n",
            "Epoch 84/100\n",
            "8/8 [==============================] - 0s 34ms/step - loss: 1832.6215 - mae: 1833.1215\n",
            "Epoch 85/100\n",
            "8/8 [==============================] - 0s 43ms/step - loss: 1699.3745 - mae: 1699.8743\n",
            "Epoch 86/100\n",
            "8/8 [==============================] - 0s 37ms/step - loss: 1867.4640 - mae: 1867.9640\n",
            "Epoch 87/100\n",
            "8/8 [==============================] - 0s 38ms/step - loss: 4102.5789 - mae: 4103.0789\n",
            "Epoch 88/100\n",
            "8/8 [==============================] - 0s 36ms/step - loss: 7084.7909 - mae: 7085.2909\n",
            "Epoch 89/100\n",
            "8/8 [==============================] - 0s 39ms/step - loss: 8930.4358 - mae: 8930.9358\n",
            "Epoch 90/100\n",
            "8/8 [==============================] - 0s 39ms/step - loss: 6103.1579 - mae: 6103.6579\n",
            "Epoch 91/100\n",
            "8/8 [==============================] - 0s 39ms/step - loss: 8917.8244 - mae: 8918.3244\n",
            "Epoch 92/100\n",
            "8/8 [==============================] - 0s 37ms/step - loss: 16729.8987 - mae: 16730.3987\n",
            "Epoch 93/100\n",
            "8/8 [==============================] - 0s 35ms/step - loss: 14494.4827 - mae: 14494.9827\n",
            "Epoch 94/100\n",
            "8/8 [==============================] - 0s 45ms/step - loss: 10554.7222 - mae: 10555.2222\n",
            "Epoch 95/100\n",
            "8/8 [==============================] - 0s 41ms/step - loss: 10821.1334 - mae: 10821.6334\n",
            "Epoch 96/100\n",
            "8/8 [==============================] - 0s 34ms/step - loss: 11647.9578 - mae: 11648.4578\n",
            "Epoch 97/100\n",
            "8/8 [==============================] - 0s 53ms/step - loss: 12423.4331 - mae: 12423.9331\n",
            "Epoch 98/100\n",
            "8/8 [==============================] - 0s 39ms/step - loss: 14221.8109 - mae: 14222.3109\n",
            "Epoch 99/100\n",
            "8/8 [==============================] - 0s 38ms/step - loss: 16154.8379 - mae: 16155.3379\n",
            "Epoch 100/100\n",
            "8/8 [==============================] - 0s 36ms/step - loss: 17809.4644 - mae: 17809.9640\n"
          ],
          "name": "stdout"
        }
      ]
    },
    {
      "cell_type": "code",
      "metadata": {
        "colab": {
          "base_uri": "https://localhost:8080/",
          "height": 290
        },
        "id": "n7E-N3wfcYyL",
        "outputId": "9390896c-c1a8-41dd-f79e-314a0ef3934e"
      },
      "source": [
        "plt.semilogx(history.history['lr'],history.history['loss'])\n",
        "plt.axis([1e-7,1e-4,0,30])"
      ],
      "execution_count": 32,
      "outputs": [
        {
          "output_type": "execute_result",
          "data": {
            "text/plain": [
              "(1e-07, 0.0001, 0.0, 30.0)"
            ]
          },
          "metadata": {
            "tags": []
          },
          "execution_count": 32
        },
        {
          "output_type": "display_data",
          "data": {
            "image/png": "[encoded data removed]",
            "text/plain": [
              "<Figure size 432x288 with 1 Axes>"
            ]
          },
          "metadata": {
            "tags": [],
            "needs_background": "light"
          }
        }
      ]
    },
    {
      "cell_type": "code",
      "metadata": {
        "colab": {
          "base_uri": "https://localhost:8080/"
        },
        "id": "CanlOs4tcvET",
        "outputId": "c545222e-c0fe-4798-d7b8-46dac715aa61"
      },
      "source": [
        "%%time\n",
        "\n",
        "keras.backend.clear_session()\n",
        "tf.random.set_seed(42)\n",
        "np.random.seed(42)\n",
        "\n",
        "window_size = 30\n",
        "train_set = window_dataset(x_train,window_size,batch_size=128)\n",
        "valid_set = window_dataset(x_valid,window_size,batch_size=128)\n",
        "\n",
        "model = keras.models.Sequential([\n",
        "  keras.layers.Lambda(lambda x: tf.expand_dims(x, axis=-1),\n",
        "                      input_shape=[None]),\n",
        "  keras.layers.SimpleRNN(100, return_sequences=True),\n",
        "  keras.layers.SimpleRNN(100),\n",
        "  keras.layers.Dense(1),\n",
        "  keras.layers.Lambda(lambda x: x * 200.0)\n",
        "])\n",
        "\n",
        "optimizer = keras.optimizers.SGD(lr=1.5e-6,momentum=0.9)\n",
        "\n",
        "model.compile(loss = keras.losses.Huber(),\n",
        "              optimizer=optimizer,\n",
        "              metrics=['mae'])\n",
        "\n",
        "early_stopping = keras.callbacks.EarlyStopping(patience=30)\n",
        "\n",
        "model_checkpoint = keras.callbacks.ModelCheckpoint(\n",
        "    \"my_check_point\",sabe_best_only=True)\n",
        "\n",
        "model.fit(train_set,\n",
        "          epochs=500,\n",
        "          validation_data = valid_set,\n",
        "          callbacks=[early_stopping,model_checkpoint])"
      ],
      "execution_count": 35,
      "outputs": [
        {
          "output_type": "stream",
          "text": [
            "Epoch 1/500\n",
            "8/8 [==============================] - 2s 98ms/step - loss: 62.2651 - mae: 62.7634 - val_loss: 53.7722 - val_mae: 54.2722\n",
            "INFO:tensorflow:Assets written to: my_check_point/assets\n",
            "Epoch 2/500\n",
            "8/8 [==============================] - 0s 51ms/step - loss: 36.4882 - mae: 36.9857 - val_loss: 17.5197 - val_mae: 18.0159\n",
            "INFO:tensorflow:Assets written to: my_check_point/assets\n",
            "Epoch 3/500\n",
            "8/8 [==============================] - 0s 49ms/step - loss: 22.5146 - mae: 23.0087 - val_loss: 18.8162 - val_mae: 19.3131\n",
            "INFO:tensorflow:Assets written to: my_check_point/assets\n",
            "Epoch 4/500\n",
            "8/8 [==============================] - 0s 58ms/step - loss: 16.8478 - mae: 17.3388 - val_loss: 20.0788 - val_mae: 20.5775\n",
            "INFO:tensorflow:Assets written to: my_check_point/assets\n",
            "Epoch 5/500\n",
            "8/8 [==============================] - 0s 50ms/step - loss: 13.6259 - mae: 14.1149 - val_loss: 6.8458 - val_mae: 7.3288\n",
            "INFO:tensorflow:Assets written to: my_check_point/assets\n",
            "Epoch 6/500\n",
            "8/8 [==============================] - 0s 54ms/step - loss: 11.3513 - mae: 11.8347 - val_loss: 7.2709 - val_mae: 7.7557\n",
            "INFO:tensorflow:Assets written to: my_check_point/assets\n",
            "Epoch 7/500\n",
            "8/8 [==============================] - 0s 57ms/step - loss: 12.2226 - mae: 12.7052 - val_loss: 11.2748 - val_mae: 11.7681\n",
            "INFO:tensorflow:Assets written to: my_check_point/assets\n",
            "Epoch 8/500\n",
            "8/8 [==============================] - 0s 52ms/step - loss: 10.8848 - mae: 11.3728 - val_loss: 6.3157 - val_mae: 6.8004\n",
            "INFO:tensorflow:Assets written to: my_check_point/assets\n",
            "Epoch 9/500\n",
            "8/8 [==============================] - 0s 50ms/step - loss: 9.5606 - mae: 10.0396 - val_loss: 5.4275 - val_mae: 5.9021\n",
            "INFO:tensorflow:Assets written to: my_check_point/assets\n",
            "Epoch 10/500\n",
            "8/8 [==============================] - 0s 51ms/step - loss: 8.6527 - mae: 9.1363 - val_loss: 5.4024 - val_mae: 5.8835\n",
            "INFO:tensorflow:Assets written to: my_check_point/assets\n",
            "Epoch 11/500\n",
            "8/8 [==============================] - 0s 53ms/step - loss: 9.1766 - mae: 9.6631 - val_loss: 6.5510 - val_mae: 7.0339\n",
            "INFO:tensorflow:Assets written to: my_check_point/assets\n",
            "Epoch 12/500\n",
            "8/8 [==============================] - 1s 67ms/step - loss: 9.0374 - mae: 9.5228 - val_loss: 6.1089 - val_mae: 6.5873\n",
            "INFO:tensorflow:Assets written to: my_check_point/assets\n",
            "Epoch 13/500\n",
            "8/8 [==============================] - 0s 49ms/step - loss: 8.9880 - mae: 9.4688 - val_loss: 6.2307 - val_mae: 6.7115\n",
            "INFO:tensorflow:Assets written to: my_check_point/assets\n",
            "Epoch 14/500\n",
            "8/8 [==============================] - 0s 49ms/step - loss: 8.3242 - mae: 8.8092 - val_loss: 5.7178 - val_mae: 6.1999\n",
            "INFO:tensorflow:Assets written to: my_check_point/assets\n",
            "Epoch 15/500\n",
            "8/8 [==============================] - 0s 49ms/step - loss: 7.8277 - mae: 8.3087 - val_loss: 6.1667 - val_mae: 6.6476\n",
            "INFO:tensorflow:Assets written to: my_check_point/assets\n",
            "Epoch 16/500\n",
            "8/8 [==============================] - 1s 57ms/step - loss: 7.8148 - mae: 8.2980 - val_loss: 7.1288 - val_mae: 7.6128\n",
            "INFO:tensorflow:Assets written to: my_check_point/assets\n",
            "Epoch 17/500\n",
            "8/8 [==============================] - 1s 59ms/step - loss: 8.0845 - mae: 8.5679 - val_loss: 7.2044 - val_mae: 7.6896\n",
            "INFO:tensorflow:Assets written to: my_check_point/assets\n",
            "Epoch 18/500\n",
            "8/8 [==============================] - 1s 67ms/step - loss: 7.0155 - mae: 7.4961 - val_loss: 6.2213 - val_mae: 6.7042\n",
            "INFO:tensorflow:Assets written to: my_check_point/assets\n",
            "Epoch 19/500\n",
            "8/8 [==============================] - 0s 48ms/step - loss: 7.2313 - mae: 7.7118 - val_loss: 5.8519 - val_mae: 6.3352\n",
            "INFO:tensorflow:Assets written to: my_check_point/assets\n",
            "Epoch 20/500\n",
            "8/8 [==============================] - 0s 50ms/step - loss: 7.1530 - mae: 7.6349 - val_loss: 5.8176 - val_mae: 6.2994\n",
            "INFO:tensorflow:Assets written to: my_check_point/assets\n",
            "Epoch 21/500\n",
            "8/8 [==============================] - 0s 55ms/step - loss: 7.4218 - mae: 7.9064 - val_loss: 5.6089 - val_mae: 6.0903\n",
            "INFO:tensorflow:Assets written to: my_check_point/assets\n",
            "Epoch 22/500\n",
            "8/8 [==============================] - 0s 54ms/step - loss: 7.2312 - mae: 7.7072 - val_loss: 5.2088 - val_mae: 5.6918\n",
            "INFO:tensorflow:Assets written to: my_check_point/assets\n",
            "Epoch 23/500\n",
            "8/8 [==============================] - 1s 68ms/step - loss: 7.3827 - mae: 7.8605 - val_loss: 5.3233 - val_mae: 5.8035\n",
            "INFO:tensorflow:Assets written to: my_check_point/assets\n",
            "Epoch 24/500\n",
            "8/8 [==============================] - 1s 66ms/step - loss: 6.9834 - mae: 7.4644 - val_loss: 5.9504 - val_mae: 6.4389\n",
            "INFO:tensorflow:Assets written to: my_check_point/assets\n",
            "Epoch 25/500\n",
            "8/8 [==============================] - 0s 49ms/step - loss: 7.9869 - mae: 8.4731 - val_loss: 6.6010 - val_mae: 7.0813\n",
            "INFO:tensorflow:Assets written to: my_check_point/assets\n",
            "Epoch 26/500\n",
            "8/8 [==============================] - 0s 48ms/step - loss: 7.2236 - mae: 7.7090 - val_loss: 6.4164 - val_mae: 6.8928\n",
            "INFO:tensorflow:Assets written to: my_check_point/assets\n",
            "Epoch 27/500\n",
            "8/8 [==============================] - 0s 48ms/step - loss: 6.3995 - mae: 6.8805 - val_loss: 5.8377 - val_mae: 6.3247\n",
            "INFO:tensorflow:Assets written to: my_check_point/assets\n",
            "Epoch 28/500\n",
            "8/8 [==============================] - 0s 51ms/step - loss: 7.5185 - mae: 8.0027 - val_loss: 5.6764 - val_mae: 6.1615\n",
            "INFO:tensorflow:Assets written to: my_check_point/assets\n",
            "Epoch 29/500\n",
            "8/8 [==============================] - 0s 51ms/step - loss: 6.7057 - mae: 7.1849 - val_loss: 5.6036 - val_mae: 6.0873\n",
            "INFO:tensorflow:Assets written to: my_check_point/assets\n",
            "Epoch 30/500\n",
            "8/8 [==============================] - 1s 63ms/step - loss: 7.7892 - mae: 8.2709 - val_loss: 8.3011 - val_mae: 8.7926\n",
            "INFO:tensorflow:Assets written to: my_check_point/assets\n",
            "Epoch 31/500\n",
            "8/8 [==============================] - 0s 52ms/step - loss: 6.9685 - mae: 7.4429 - val_loss: 6.3724 - val_mae: 6.8498\n",
            "INFO:tensorflow:Assets written to: my_check_point/assets\n",
            "Epoch 32/500\n",
            "8/8 [==============================] - 0s 50ms/step - loss: 5.9810 - mae: 6.4558 - val_loss: 5.2598 - val_mae: 5.7392\n",
            "INFO:tensorflow:Assets written to: my_check_point/assets\n",
            "Epoch 33/500\n",
            "8/8 [==============================] - 1s 65ms/step - loss: 6.2069 - mae: 6.6903 - val_loss: 5.2490 - val_mae: 5.7277\n",
            "INFO:tensorflow:Assets written to: my_check_point/assets\n",
            "Epoch 34/500\n",
            "8/8 [==============================] - 1s 63ms/step - loss: 6.5350 - mae: 7.0160 - val_loss: 5.4383 - val_mae: 5.9173\n",
            "INFO:tensorflow:Assets written to: my_check_point/assets\n",
            "Epoch 35/500\n",
            "8/8 [==============================] - 0s 53ms/step - loss: 6.3104 - mae: 6.7853 - val_loss: 5.3990 - val_mae: 5.8759\n",
            "INFO:tensorflow:Assets written to: my_check_point/assets\n",
            "Epoch 36/500\n",
            "8/8 [==============================] - 0s 52ms/step - loss: 6.2219 - mae: 6.6992 - val_loss: 5.3508 - val_mae: 5.8273\n",
            "INFO:tensorflow:Assets written to: my_check_point/assets\n",
            "Epoch 37/500\n",
            "8/8 [==============================] - 1s 68ms/step - loss: 6.0187 - mae: 6.4965 - val_loss: 5.0254 - val_mae: 5.5085\n",
            "INFO:tensorflow:Assets written to: my_check_point/assets\n",
            "Epoch 38/500\n",
            "8/8 [==============================] - 0s 54ms/step - loss: 6.3096 - mae: 6.7871 - val_loss: 4.9862 - val_mae: 5.4679\n",
            "INFO:tensorflow:Assets written to: my_check_point/assets\n",
            "Epoch 39/500\n",
            "8/8 [==============================] - 1s 65ms/step - loss: 5.8458 - mae: 6.3219 - val_loss: 5.0002 - val_mae: 5.4845\n",
            "INFO:tensorflow:Assets written to: my_check_point/assets\n",
            "Epoch 40/500\n",
            "8/8 [==============================] - 1s 57ms/step - loss: 6.3385 - mae: 6.8152 - val_loss: 5.5823 - val_mae: 6.0634\n",
            "INFO:tensorflow:Assets written to: my_check_point/assets\n",
            "Epoch 41/500\n",
            "8/8 [==============================] - 0s 51ms/step - loss: 6.2012 - mae: 6.6820 - val_loss: 6.4421 - val_mae: 6.9249\n",
            "INFO:tensorflow:Assets written to: my_check_point/assets\n",
            "Epoch 42/500\n",
            "8/8 [==============================] - 0s 52ms/step - loss: 5.8562 - mae: 6.3331 - val_loss: 5.0356 - val_mae: 5.5097\n",
            "INFO:tensorflow:Assets written to: my_check_point/assets\n",
            "Epoch 43/500\n",
            "8/8 [==============================] - 0s 51ms/step - loss: 6.4238 - mae: 6.8981 - val_loss: 5.0035 - val_mae: 5.4783\n",
            "INFO:tensorflow:Assets written to: my_check_point/assets\n",
            "Epoch 44/500\n",
            "8/8 [==============================] - 0s 56ms/step - loss: 5.9092 - mae: 6.3855 - val_loss: 4.9765 - val_mae: 5.4604\n",
            "INFO:tensorflow:Assets written to: my_check_point/assets\n",
            "Epoch 45/500\n",
            "8/8 [==============================] - 0s 49ms/step - loss: 6.3966 - mae: 6.8761 - val_loss: 4.9839 - val_mae: 5.4653\n",
            "INFO:tensorflow:Assets written to: my_check_point/assets\n",
            "Epoch 46/500\n",
            "8/8 [==============================] - 0s 50ms/step - loss: 5.9256 - mae: 6.4015 - val_loss: 5.1971 - val_mae: 5.6715\n",
            "INFO:tensorflow:Assets written to: my_check_point/assets\n",
            "Epoch 47/500\n",
            "8/8 [==============================] - 0s 56ms/step - loss: 6.9021 - mae: 7.3880 - val_loss: 6.7113 - val_mae: 7.1968\n",
            "INFO:tensorflow:Assets written to: my_check_point/assets\n",
            "Epoch 48/500\n",
            "8/8 [==============================] - 0s 52ms/step - loss: 7.1706 - mae: 7.6569 - val_loss: 10.5736 - val_mae: 11.0684\n",
            "INFO:tensorflow:Assets written to: my_check_point/assets\n",
            "Epoch 49/500\n",
            "8/8 [==============================] - 0s 49ms/step - loss: 6.8314 - mae: 7.3149 - val_loss: 6.1742 - val_mae: 6.6535\n",
            "INFO:tensorflow:Assets written to: my_check_point/assets\n",
            "Epoch 50/500\n",
            "8/8 [==============================] - 1s 59ms/step - loss: 6.4264 - mae: 6.9081 - val_loss: 5.0918 - val_mae: 5.5723\n",
            "INFO:tensorflow:Assets written to: my_check_point/assets\n",
            "Epoch 51/500\n",
            "8/8 [==============================] - 0s 52ms/step - loss: 6.9577 - mae: 7.4440 - val_loss: 5.2914 - val_mae: 5.7696\n",
            "INFO:tensorflow:Assets written to: my_check_point/assets\n",
            "Epoch 52/500\n",
            "8/8 [==============================] - 0s 49ms/step - loss: 6.7952 - mae: 7.2811 - val_loss: 5.8080 - val_mae: 6.2870\n",
            "INFO:tensorflow:Assets written to: my_check_point/assets\n",
            "Epoch 53/500\n",
            "8/8 [==============================] - 0s 54ms/step - loss: 6.3027 - mae: 6.7841 - val_loss: 9.4444 - val_mae: 9.9404\n",
            "INFO:tensorflow:Assets written to: my_check_point/assets\n",
            "Epoch 54/500\n",
            "8/8 [==============================] - 0s 55ms/step - loss: 6.6878 - mae: 7.1755 - val_loss: 5.1423 - val_mae: 5.6190\n",
            "INFO:tensorflow:Assets written to: my_check_point/assets\n",
            "Epoch 55/500\n",
            "8/8 [==============================] - 1s 75ms/step - loss: 6.8277 - mae: 7.3065 - val_loss: 5.7709 - val_mae: 6.2557\n",
            "INFO:tensorflow:Assets written to: my_check_point/assets\n",
            "Epoch 56/500\n",
            "8/8 [==============================] - 0s 54ms/step - loss: 6.8248 - mae: 7.3118 - val_loss: 5.7373 - val_mae: 6.2173\n",
            "INFO:tensorflow:Assets written to: my_check_point/assets\n",
            "Epoch 57/500\n",
            "8/8 [==============================] - 0s 52ms/step - loss: 5.7538 - mae: 6.2321 - val_loss: 5.1172 - val_mae: 5.5917\n",
            "INFO:tensorflow:Assets written to: my_check_point/assets\n",
            "Epoch 58/500\n",
            "8/8 [==============================] - 0s 53ms/step - loss: 5.9094 - mae: 6.3853 - val_loss: 7.4314 - val_mae: 7.9164\n",
            "INFO:tensorflow:Assets written to: my_check_point/assets\n",
            "Epoch 59/500\n",
            "8/8 [==============================] - 1s 69ms/step - loss: 6.0685 - mae: 6.5463 - val_loss: 6.6450 - val_mae: 7.1293\n",
            "INFO:tensorflow:Assets written to: my_check_point/assets\n",
            "Epoch 60/500\n",
            "8/8 [==============================] - 0s 55ms/step - loss: 5.8397 - mae: 6.3166 - val_loss: 5.5806 - val_mae: 6.0649\n",
            "INFO:tensorflow:Assets written to: my_check_point/assets\n",
            "Epoch 61/500\n",
            "8/8 [==============================] - 1s 53ms/step - loss: 5.5744 - mae: 6.0549 - val_loss: 5.1648 - val_mae: 5.6430\n",
            "INFO:tensorflow:Assets written to: my_check_point/assets\n",
            "Epoch 62/500\n",
            "8/8 [==============================] - 0s 52ms/step - loss: 5.6226 - mae: 6.1073 - val_loss: 6.7675 - val_mae: 7.2550\n",
            "INFO:tensorflow:Assets written to: my_check_point/assets\n",
            "Epoch 63/500\n",
            "8/8 [==============================] - 0s 56ms/step - loss: 6.0037 - mae: 6.4846 - val_loss: 5.5542 - val_mae: 6.0376\n",
            "INFO:tensorflow:Assets written to: my_check_point/assets\n",
            "Epoch 64/500\n",
            "8/8 [==============================] - 0s 50ms/step - loss: 5.5427 - mae: 6.0220 - val_loss: 5.3562 - val_mae: 5.8395\n",
            "INFO:tensorflow:Assets written to: my_check_point/assets\n",
            "CPU times: user 3min 24s, sys: 7.22 s, total: 3min 31s\n",
            "Wall time: 3min 13s\n"
          ],
          "name": "stdout"
        }
      ]
    },
    {
      "cell_type": "code",
      "metadata": {
        "id": "gtf82loRdICx"
      },
      "source": [
        "model = keras.models.load_model('my_check_point')"
      ],
      "execution_count": 36,
      "outputs": []
    },
    {
      "cell_type": "code",
      "metadata": {
        "id": "LQKJqigUeG6L"
      },
      "source": [
        "rnn_forecast = model_forecast(\n",
        "    model,\n",
        "    series[split_time - window_size:-1],\n",
        "    window_size)[:,0]"
      ],
      "execution_count": 39,
      "outputs": []
    },
    {
      "cell_type": "code",
      "metadata": {
        "colab": {
          "base_uri": "https://localhost:8080/",
          "height": 388
        },
        "id": "QLdi9Qx9eUC9",
        "outputId": "6a8b466f-2f79-43af-a9e4-db73656bafad"
      },
      "source": [
        "plt.figure(figsize=(10,6))\n",
        "plot_series(time_valid,x_valid)\n",
        "plot_series(time_valid,rnn_forecast)"
      ],
      "execution_count": 40,
      "outputs": [
        {
          "output_type": "display_data",
          "data": {
            "image/png": "[encoded data removed]",
            "text/plain": [
              "<Figure size 720x432 with 1 Axes>"
            ]
          },
          "metadata": {
            "tags": [],
            "needs_background": "light"
          }
        }
      ]
    },
    {
      "cell_type": "markdown",
      "metadata": {
        "id": "qp1Z7gjked_Y"
      },
      "source": [
        "# Sequence to Sequence Forecasting"
      ]
    },
    {
      "cell_type": "code",
      "metadata": {
        "id": "CdE8Bn7yec_k"
      },
      "source": [
        "def seq2seq_window_dataset(series,window_size,batch_size=32,\n",
        "                           shuffle_buffer=1000):\n",
        "  series = tf.expand_dims(series,axis=-1)\n",
        "  ds = tf.data.Dataset.from_tensor_slices(series)\n",
        "  ds = ds.window(window_size + 1,shift=1,drop_remainder=True)\n",
        "  ds = ds.flat_map(lambda w: w.batch(window_size + 1))\n",
        "  ds = ds.shuffle(shuffle_buffer)\n",
        "  ds = ds.map(lambda w : (w[:-1],w[1:]))\n",
        "  return ds.batch(batch_size).prefetch(1)"
      ],
      "execution_count": 41,
      "outputs": []
    },
    {
      "cell_type": "code",
      "metadata": {
        "colab": {
          "base_uri": "https://localhost:8080/"
        },
        "id": "aLOZFowLjuEB",
        "outputId": "e1792bf9-93aa-44fe-ea61-06322e58ebce"
      },
      "source": [
        "for X_batch,Y_batch in seq2seq_window_dataset(tf.range(10),3,batch_size=1):\n",
        "\n",
        "  print(\"X: \",X_batch.numpy())\n",
        "  print(\"Y: \",Y_batch.numpy())"
      ],
      "execution_count": 42,
      "outputs": [
        {
          "output_type": "stream",
          "text": [
            "X:  [[[1]\n",
            "  [2]\n",
            "  [3]]]\n",
            "Y:  [[[2]\n",
            "  [3]\n",
            "  [4]]]\n",
            "X:  [[[2]\n",
            "  [3]\n",
            "  [4]]]\n",
            "Y:  [[[3]\n",
            "  [4]\n",
            "  [5]]]\n",
            "X:  [[[4]\n",
            "  [5]\n",
            "  [6]]]\n",
            "Y:  [[[5]\n",
            "  [6]\n",
            "  [7]]]\n",
            "X:  [[[3]\n",
            "  [4]\n",
            "  [5]]]\n",
            "Y:  [[[4]\n",
            "  [5]\n",
            "  [6]]]\n",
            "X:  [[[5]\n",
            "  [6]\n",
            "  [7]]]\n",
            "Y:  [[[6]\n",
            "  [7]\n",
            "  [8]]]\n",
            "X:  [[[6]\n",
            "  [7]\n",
            "  [8]]]\n",
            "Y:  [[[7]\n",
            "  [8]\n",
            "  [9]]]\n",
            "X:  [[[0]\n",
            "  [1]\n",
            "  [2]]]\n",
            "Y:  [[[1]\n",
            "  [2]\n",
            "  [3]]]\n"
          ],
          "name": "stdout"
        }
      ]
    },
    {
      "cell_type": "code",
      "metadata": {
        "colab": {
          "base_uri": "https://localhost:8080/"
        },
        "id": "wvO0M-5Xj8g8",
        "outputId": "59baf967-613e-4921-f76d-d323d0cb464c"
      },
      "source": [
        "%%time \n",
        "\n",
        "keras.backend.clear_session()\n",
        "\n",
        "tf.random.set_seed(42)\n",
        "np.random.seed(42)\n",
        "\n",
        "window_size = 30 \n",
        "train_set = seq2seq_window_dataset(x_train,window_size,batch_size=128)\n",
        "\n",
        "mode = keras.models.Sequential([\n",
        "  keras.layers.SimpleRNN(100, return_sequences=True,\n",
        "                         input_shape=[None, 1]),\n",
        "  keras.layers.SimpleRNN(100, return_sequences=True),\n",
        "  keras.layers.Dense(1),\n",
        "  keras.layers.Lambda(lambda x: x * 200)\n",
        "])\n",
        "\n",
        "lr_schedule = keras.callbacks.LearningRateScheduler(\n",
        "    lambda epoch : 1e-7 * 10 **(epoch/30))\n",
        "\n",
        "optimizer = keras.optimizers.SGD(lr=1e-7,momentum=0.9)\n",
        "\n",
        "model.compile(loss=keras.losses.Huber(),\n",
        "              optimizer = optimizer,\n",
        "              metrics=['mae'])\n",
        "\n",
        "history = model.fit(train_set , epochs=100,callbacks=[lr_schedule])"
      ],
      "execution_count": 44,
      "outputs": [
        {
          "output_type": "stream",
          "text": [
            "Epoch 1/100\n",
            "8/8 [==============================] - 1s 37ms/step - loss: 8.6862 - mae: 9.1683\n",
            "Epoch 2/100\n",
            "8/8 [==============================] - 0s 35ms/step - loss: 8.4212 - mae: 8.9033\n",
            "Epoch 3/100\n",
            "8/8 [==============================] - 0s 37ms/step - loss: 8.3199 - mae: 8.8006\n",
            "Epoch 4/100\n",
            "8/8 [==============================] - 0s 33ms/step - loss: 8.0519 - mae: 8.5318\n",
            "Epoch 5/100\n",
            "8/8 [==============================] - 0s 33ms/step - loss: 8.1548 - mae: 8.6345\n",
            "Epoch 6/100\n",
            "8/8 [==============================] - 0s 39ms/step - loss: 7.8402 - mae: 8.3205\n",
            "Epoch 7/100\n",
            "8/8 [==============================] - 0s 37ms/step - loss: 8.6345 - mae: 9.1146\n",
            "Epoch 8/100\n",
            "8/8 [==============================] - 0s 42ms/step - loss: 8.1135 - mae: 8.5940\n",
            "Epoch 9/100\n",
            "8/8 [==============================] - 0s 49ms/step - loss: 8.0657 - mae: 8.5461\n",
            "Epoch 10/100\n",
            "8/8 [==============================] - 0s 40ms/step - loss: 7.9895 - mae: 8.4695\n",
            "Epoch 11/100\n",
            "8/8 [==============================] - 0s 40ms/step - loss: 8.1472 - mae: 8.6281\n",
            "Epoch 12/100\n",
            "8/8 [==============================] - 0s 34ms/step - loss: 8.0293 - mae: 8.5092\n",
            "Epoch 13/100\n",
            "8/8 [==============================] - 0s 37ms/step - loss: 8.1818 - mae: 8.6616\n",
            "Epoch 14/100\n",
            "8/8 [==============================] - 0s 37ms/step - loss: 8.1372 - mae: 8.6171\n",
            "Epoch 15/100\n",
            "8/8 [==============================] - 0s 35ms/step - loss: 7.6520 - mae: 8.1317\n",
            "Epoch 16/100\n",
            "8/8 [==============================] - 0s 39ms/step - loss: 7.9557 - mae: 8.4353\n",
            "Epoch 17/100\n",
            "8/8 [==============================] - 0s 40ms/step - loss: 8.0904 - mae: 8.5695\n",
            "Epoch 18/100\n",
            "8/8 [==============================] - 0s 49ms/step - loss: 8.0184 - mae: 8.4994\n",
            "Epoch 19/100\n",
            "8/8 [==============================] - 0s 43ms/step - loss: 7.9676 - mae: 8.4477\n",
            "Epoch 20/100\n",
            "8/8 [==============================] - 0s 36ms/step - loss: 8.2021 - mae: 8.6825\n",
            "Epoch 21/100\n",
            "8/8 [==============================] - 0s 36ms/step - loss: 8.1221 - mae: 8.6021\n",
            "Epoch 22/100\n",
            "8/8 [==============================] - 0s 50ms/step - loss: 8.2268 - mae: 8.7071\n",
            "Epoch 23/100\n",
            "8/8 [==============================] - 0s 44ms/step - loss: 8.0064 - mae: 8.4863\n",
            "Epoch 24/100\n",
            "8/8 [==============================] - 0s 34ms/step - loss: 7.8197 - mae: 8.2997\n",
            "Epoch 25/100\n",
            "8/8 [==============================] - 0s 39ms/step - loss: 8.0111 - mae: 8.4912\n",
            "Epoch 26/100\n",
            "8/8 [==============================] - 0s 46ms/step - loss: 8.1644 - mae: 8.6446\n",
            "Epoch 27/100\n",
            "8/8 [==============================] - 0s 38ms/step - loss: 7.7138 - mae: 8.1941\n",
            "Epoch 28/100\n",
            "8/8 [==============================] - 0s 51ms/step - loss: 7.7652 - mae: 8.2465\n",
            "Epoch 29/100\n",
            "8/8 [==============================] - 0s 40ms/step - loss: 7.9638 - mae: 8.4450\n",
            "Epoch 30/100\n",
            "8/8 [==============================] - 0s 40ms/step - loss: 8.1915 - mae: 8.6720\n",
            "Epoch 31/100\n",
            "8/8 [==============================] - 0s 38ms/step - loss: 8.3356 - mae: 8.8170\n",
            "Epoch 32/100\n",
            "8/8 [==============================] - 0s 41ms/step - loss: 7.7578 - mae: 8.2390\n",
            "Epoch 33/100\n",
            "8/8 [==============================] - 0s 43ms/step - loss: 7.7570 - mae: 8.2381\n",
            "Epoch 34/100\n",
            "8/8 [==============================] - 0s 36ms/step - loss: 7.9204 - mae: 8.4009\n",
            "Epoch 35/100\n",
            "8/8 [==============================] - 0s 38ms/step - loss: 7.7913 - mae: 8.2712\n",
            "Epoch 36/100\n",
            "8/8 [==============================] - 0s 38ms/step - loss: 7.5708 - mae: 8.0502\n",
            "Epoch 37/100\n",
            "8/8 [==============================] - 0s 37ms/step - loss: 7.5361 - mae: 8.0167\n",
            "Epoch 38/100\n",
            "8/8 [==============================] - 0s 37ms/step - loss: 7.6392 - mae: 8.1193\n",
            "Epoch 39/100\n",
            "8/8 [==============================] - 0s 39ms/step - loss: 7.6286 - mae: 8.1088\n",
            "Epoch 40/100\n",
            "8/8 [==============================] - 0s 46ms/step - loss: 7.3296 - mae: 7.8086\n",
            "Epoch 41/100\n",
            "8/8 [==============================] - 0s 46ms/step - loss: 7.4458 - mae: 7.9263\n",
            "Epoch 42/100\n",
            "8/8 [==============================] - 1s 51ms/step - loss: 7.6363 - mae: 8.1174\n",
            "Epoch 43/100\n",
            "8/8 [==============================] - 0s 50ms/step - loss: 7.6439 - mae: 8.1241\n",
            "Epoch 44/100\n",
            "8/8 [==============================] - 0s 48ms/step - loss: 7.5120 - mae: 7.9926\n",
            "Epoch 45/100\n",
            "8/8 [==============================] - 0s 49ms/step - loss: 7.4938 - mae: 7.9744\n",
            "Epoch 46/100\n",
            "8/8 [==============================] - 0s 47ms/step - loss: 7.4819 - mae: 7.9631\n",
            "Epoch 47/100\n",
            "8/8 [==============================] - 0s 36ms/step - loss: 7.9188 - mae: 8.4035\n",
            "Epoch 48/100\n",
            "8/8 [==============================] - 0s 40ms/step - loss: 8.9900 - mae: 9.4780\n",
            "Epoch 49/100\n",
            "8/8 [==============================] - 0s 45ms/step - loss: 9.3651 - mae: 9.8536\n",
            "Epoch 50/100\n",
            "8/8 [==============================] - 0s 45ms/step - loss: 7.9265 - mae: 8.4113\n",
            "Epoch 51/100\n",
            "8/8 [==============================] - 0s 46ms/step - loss: 9.2635 - mae: 9.7511\n",
            "Epoch 52/100\n",
            "8/8 [==============================] - 0s 42ms/step - loss: 8.9241 - mae: 9.4101\n",
            "Epoch 53/100\n",
            "8/8 [==============================] - 0s 47ms/step - loss: 10.2306 - mae: 10.7216\n",
            "Epoch 54/100\n",
            "8/8 [==============================] - 0s 37ms/step - loss: 10.4098 - mae: 10.9019\n",
            "Epoch 55/100\n",
            "8/8 [==============================] - 0s 51ms/step - loss: 12.0348 - mae: 12.5281\n",
            "Epoch 56/100\n",
            "8/8 [==============================] - 0s 41ms/step - loss: 9.1238 - mae: 9.6092\n",
            "Epoch 57/100\n",
            "8/8 [==============================] - 0s 42ms/step - loss: 12.1490 - mae: 12.6435\n",
            "Epoch 58/100\n",
            "8/8 [==============================] - 0s 36ms/step - loss: 9.9355 - mae: 10.4217\n",
            "Epoch 59/100\n",
            "8/8 [==============================] - 0s 36ms/step - loss: 13.0452 - mae: 13.5411\n",
            "Epoch 60/100\n",
            "8/8 [==============================] - 0s 39ms/step - loss: 12.8585 - mae: 13.3513\n",
            "Epoch 61/100\n",
            "8/8 [==============================] - 0s 38ms/step - loss: 14.4280 - mae: 14.9228\n",
            "Epoch 62/100\n",
            "8/8 [==============================] - 0s 42ms/step - loss: 15.9317 - mae: 16.4274\n",
            "Epoch 63/100\n",
            "8/8 [==============================] - 0s 36ms/step - loss: 15.7722 - mae: 16.2692\n",
            "Epoch 64/100\n",
            "8/8 [==============================] - 0s 38ms/step - loss: 16.6774 - mae: 17.1727\n",
            "Epoch 65/100\n",
            "8/8 [==============================] - 0s 36ms/step - loss: 18.8138 - mae: 19.3084\n",
            "Epoch 66/100\n",
            "8/8 [==============================] - 0s 38ms/step - loss: 42.8638 - mae: 43.3631\n",
            "Epoch 67/100\n",
            "8/8 [==============================] - 0s 39ms/step - loss: 31.7870 - mae: 32.2857\n",
            "Epoch 68/100\n",
            "8/8 [==============================] - 0s 38ms/step - loss: 33.9725 - mae: 34.4711\n",
            "Epoch 69/100\n",
            "8/8 [==============================] - 0s 36ms/step - loss: 35.4625 - mae: 35.9615\n",
            "Epoch 70/100\n",
            "8/8 [==============================] - 0s 48ms/step - loss: 36.1771 - mae: 36.6765\n",
            "Epoch 71/100\n",
            "8/8 [==============================] - 0s 37ms/step - loss: 33.8371 - mae: 34.3361\n",
            "Epoch 72/100\n",
            "8/8 [==============================] - 0s 39ms/step - loss: 36.3556 - mae: 36.8542\n",
            "Epoch 73/100\n",
            "8/8 [==============================] - 0s 40ms/step - loss: 44.7176 - mae: 45.2169\n",
            "Epoch 74/100\n",
            "8/8 [==============================] - 0s 41ms/step - loss: 50.5408 - mae: 51.0398\n",
            "Epoch 75/100\n",
            "8/8 [==============================] - 0s 43ms/step - loss: 32.7310 - mae: 33.2295\n",
            "Epoch 76/100\n",
            "8/8 [==============================] - 0s 37ms/step - loss: 23.6158 - mae: 24.1113\n",
            "Epoch 77/100\n",
            "8/8 [==============================] - 0s 44ms/step - loss: 25.3218 - mae: 25.8179\n",
            "Epoch 78/100\n",
            "8/8 [==============================] - 0s 42ms/step - loss: 23.0743 - mae: 23.5725\n",
            "Epoch 79/100\n",
            "8/8 [==============================] - 0s 45ms/step - loss: 19.0056 - mae: 19.5000\n",
            "Epoch 80/100\n",
            "8/8 [==============================] - 0s 38ms/step - loss: 25.4640 - mae: 25.9609\n",
            "Epoch 81/100\n",
            "8/8 [==============================] - 0s 41ms/step - loss: 41.6145 - mae: 42.1130\n",
            "Epoch 82/100\n",
            "8/8 [==============================] - 0s 46ms/step - loss: 55.4586 - mae: 55.9583\n",
            "Epoch 83/100\n",
            "8/8 [==============================] - 0s 38ms/step - loss: 61.5986 - mae: 62.0983\n",
            "Epoch 84/100\n",
            "8/8 [==============================] - 0s 38ms/step - loss: 57.1254 - mae: 57.6250\n",
            "Epoch 85/100\n",
            "8/8 [==============================] - 0s 45ms/step - loss: 62.7780 - mae: 63.2779\n",
            "Epoch 86/100\n",
            "8/8 [==============================] - 0s 41ms/step - loss: 57.9558 - mae: 58.4556\n",
            "Epoch 87/100\n",
            "8/8 [==============================] - 0s 42ms/step - loss: 60.0079 - mae: 60.5073\n",
            "Epoch 88/100\n",
            "8/8 [==============================] - 0s 35ms/step - loss: 57.8940 - mae: 58.3929\n",
            "Epoch 89/100\n",
            "8/8 [==============================] - 0s 51ms/step - loss: 71.3468 - mae: 71.8466\n",
            "Epoch 90/100\n",
            "8/8 [==============================] - 0s 39ms/step - loss: 72.2256 - mae: 72.7241\n",
            "Epoch 91/100\n",
            "8/8 [==============================] - 0s 40ms/step - loss: 162.0874 - mae: 162.5864\n",
            "Epoch 92/100\n",
            "8/8 [==============================] - 0s 44ms/step - loss: 107.5151 - mae: 108.0147\n",
            "Epoch 93/100\n",
            "8/8 [==============================] - 0s 41ms/step - loss: 99.1907 - mae: 99.6906\n",
            "Epoch 94/100\n",
            "8/8 [==============================] - 0s 39ms/step - loss: 106.2296 - mae: 106.7292\n",
            "Epoch 95/100\n",
            "8/8 [==============================] - 0s 44ms/step - loss: 100.9955 - mae: 101.4953\n",
            "Epoch 96/100\n",
            "8/8 [==============================] - 0s 37ms/step - loss: 129.0063 - mae: 129.5063\n",
            "Epoch 97/100\n",
            "8/8 [==============================] - 0s 37ms/step - loss: 131.1208 - mae: 131.6205\n",
            "Epoch 98/100\n",
            "8/8 [==============================] - 0s 34ms/step - loss: 170.9776 - mae: 171.4775\n",
            "Epoch 99/100\n",
            "8/8 [==============================] - 0s 43ms/step - loss: 174.3740 - mae: 174.8734\n",
            "Epoch 100/100\n",
            "8/8 [==============================] - 0s 33ms/step - loss: 107.0238 - mae: 107.5227\n",
            "CPU times: user 1min, sys: 7.38 s, total: 1min 8s\n",
            "Wall time: 43 s\n"
          ],
          "name": "stdout"
        }
      ]
    },
    {
      "cell_type": "code",
      "metadata": {
        "colab": {
          "base_uri": "https://localhost:8080/",
          "height": 290
        },
        "id": "WjyoMcydkW5t",
        "outputId": "17c95e13-dfd1-418b-c39d-18c97fc9dc3a"
      },
      "source": [
        "plt.semilogx(history.history['lr'],history.history['loss'])\n",
        "plt.axis([1e-7,1e-4,0,30])"
      ],
      "execution_count": 45,
      "outputs": [
        {
          "output_type": "execute_result",
          "data": {
            "text/plain": [
              "(1e-07, 0.0001, 0.0, 30.0)"
            ]
          },
          "metadata": {
            "tags": []
          },
          "execution_count": 45
        },
        {
          "output_type": "display_data",
          "data": {
            "image/png": "[encoded data removed]",
            "text/plain": [
              "<Figure size 432x288 with 1 Axes>"
            ]
          },
          "metadata": {
            "tags": [],
            "needs_background": "light"
          }
        }
      ]
    },
    {
      "cell_type": "code",
      "metadata": {
        "colab": {
          "base_uri": "https://localhost:8080/"
        },
        "id": "OJT9lArVlNjF",
        "outputId": "32006b68-34b6-4cc3-af39-c6275c35aaff"
      },
      "source": [
        "%%time \n",
        "\n",
        "keras.backend.clear_session()\n",
        "tf.random.set_seed(42)\n",
        "np.random.seed(42)\n",
        "\n",
        "window_size = 30\n",
        "\n",
        "train_set = seq2seq_window_dataset(x_train,window_size,\n",
        "                                   batch_size=128)\n",
        "\n",
        "valid_set = seq2seq_window_dataset(x_valid,window_size,\n",
        "                                   batch_size = 128)\n",
        "\n",
        "model = keras.models.Sequential([\n",
        "  keras.layers.SimpleRNN(100, return_sequences=True,\n",
        "                         input_shape=[None, 1]),\n",
        "  keras.layers.SimpleRNN(100, return_sequences=True),\n",
        "  keras.layers.Dense(1),\n",
        "  keras.layers.Lambda(lambda x: x * 200.0)\n",
        "])\n",
        "\n",
        "optimizer = keras.optimizers.SGD(lr=1e-6,momentum=0.9)\n",
        "model.compile(loss=keras.losses.Huber(),\n",
        "              optimizer=optimizer,\n",
        "              metrics=['mae'])\n",
        "\n",
        "early_stopping = keras.callbacks.EarlyStopping(patience=12)\n",
        "\n",
        "model.fit(train_set,epochs=500,\n",
        "          validation_data = valid_set,\n",
        "          callbacks=[early_stopping])\n"
      ],
      "execution_count": 46,
      "outputs": [
        {
          "output_type": "stream",
          "text": [
            "Epoch 1/500\n",
            "8/8 [==============================] - 2s 87ms/step - loss: 61.3631 - mae: 61.8618 - val_loss: 17.9208 - val_mae: 18.4157\n",
            "Epoch 2/500\n",
            "8/8 [==============================] - 0s 56ms/step - loss: 35.1588 - mae: 35.6565 - val_loss: 20.5483 - val_mae: 21.0442\n",
            "Epoch 3/500\n",
            "8/8 [==============================] - 1s 57ms/step - loss: 29.5357 - mae: 30.0314 - val_loss: 37.8714 - val_mae: 38.3709\n",
            "Epoch 4/500\n",
            "8/8 [==============================] - 1s 60ms/step - loss: 21.7890 - mae: 22.2826 - val_loss: 25.2686 - val_mae: 25.7675\n",
            "Epoch 5/500\n",
            "8/8 [==============================] - 0s 53ms/step - loss: 17.9243 - mae: 18.4150 - val_loss: 15.3557 - val_mae: 15.8506\n",
            "Epoch 6/500\n",
            "8/8 [==============================] - 0s 53ms/step - loss: 14.9311 - mae: 15.4179 - val_loss: 9.4218 - val_mae: 9.9071\n",
            "Epoch 7/500\n",
            "8/8 [==============================] - 0s 54ms/step - loss: 14.3013 - mae: 14.7875 - val_loss: 9.1617 - val_mae: 9.6474\n",
            "Epoch 8/500\n",
            "8/8 [==============================] - 0s 50ms/step - loss: 13.3353 - mae: 13.8192 - val_loss: 9.8610 - val_mae: 10.3507\n",
            "Epoch 9/500\n",
            "8/8 [==============================] - 0s 52ms/step - loss: 12.6762 - mae: 13.1594 - val_loss: 8.1729 - val_mae: 8.6573\n",
            "Epoch 10/500\n",
            "8/8 [==============================] - 0s 51ms/step - loss: 11.6719 - mae: 12.1551 - val_loss: 8.1780 - val_mae: 8.6607\n",
            "Epoch 11/500\n",
            "8/8 [==============================] - 1s 62ms/step - loss: 11.0487 - mae: 11.5307 - val_loss: 8.2508 - val_mae: 8.7357\n",
            "Epoch 12/500\n",
            "8/8 [==============================] - 0s 50ms/step - loss: 11.3433 - mae: 11.8249 - val_loss: 7.7044 - val_mae: 8.1899\n",
            "Epoch 13/500\n",
            "8/8 [==============================] - 0s 50ms/step - loss: 11.2035 - mae: 11.6869 - val_loss: 7.8013 - val_mae: 8.2838\n",
            "Epoch 14/500\n",
            "8/8 [==============================] - 1s 58ms/step - loss: 10.2596 - mae: 10.7418 - val_loss: 7.5620 - val_mae: 8.0454\n",
            "Epoch 15/500\n",
            "8/8 [==============================] - 0s 55ms/step - loss: 10.0513 - mae: 10.5337 - val_loss: 7.4425 - val_mae: 7.9260\n",
            "Epoch 16/500\n",
            "8/8 [==============================] - 0s 52ms/step - loss: 10.2158 - mae: 10.6980 - val_loss: 7.3019 - val_mae: 7.7855\n",
            "Epoch 17/500\n",
            "8/8 [==============================] - 0s 49ms/step - loss: 9.5550 - mae: 10.0374 - val_loss: 7.2305 - val_mae: 7.7128\n",
            "Epoch 18/500\n",
            "8/8 [==============================] - 0s 51ms/step - loss: 9.2078 - mae: 9.6901 - val_loss: 7.2973 - val_mae: 7.7811\n",
            "Epoch 19/500\n",
            "8/8 [==============================] - 0s 50ms/step - loss: 8.8755 - mae: 9.3567 - val_loss: 7.0410 - val_mae: 7.5227\n",
            "Epoch 20/500\n",
            "8/8 [==============================] - 0s 54ms/step - loss: 9.1084 - mae: 9.5902 - val_loss: 6.9231 - val_mae: 7.4054\n",
            "Epoch 21/500\n",
            "8/8 [==============================] - 1s 89ms/step - loss: 9.3256 - mae: 9.8068 - val_loss: 6.8684 - val_mae: 7.3498\n",
            "Epoch 22/500\n",
            "8/8 [==============================] - 1s 56ms/step - loss: 8.6213 - mae: 9.1032 - val_loss: 6.7681 - val_mae: 7.2486\n",
            "Epoch 23/500\n",
            "8/8 [==============================] - 0s 53ms/step - loss: 8.7952 - mae: 9.2757 - val_loss: 6.9130 - val_mae: 7.3982\n",
            "Epoch 24/500\n",
            "8/8 [==============================] - 1s 66ms/step - loss: 8.6273 - mae: 9.1077 - val_loss: 6.7497 - val_mae: 7.2318\n",
            "Epoch 25/500\n",
            "8/8 [==============================] - 1s 58ms/step - loss: 8.3649 - mae: 8.8461 - val_loss: 6.6384 - val_mae: 7.1198\n",
            "Epoch 26/500\n",
            "8/8 [==============================] - 1s 56ms/step - loss: 8.6248 - mae: 9.1064 - val_loss: 6.4466 - val_mae: 6.9236\n",
            "Epoch 27/500\n",
            "8/8 [==============================] - 0s 50ms/step - loss: 7.8108 - mae: 8.2921 - val_loss: 6.4515 - val_mae: 6.9306\n",
            "Epoch 28/500\n",
            "8/8 [==============================] - 0s 51ms/step - loss: 7.7845 - mae: 8.2651 - val_loss: 6.5569 - val_mae: 7.0406\n",
            "Epoch 29/500\n",
            "8/8 [==============================] - 0s 54ms/step - loss: 8.0897 - mae: 8.5701 - val_loss: 6.2728 - val_mae: 6.7472\n",
            "Epoch 30/500\n",
            "8/8 [==============================] - 0s 49ms/step - loss: 8.1136 - mae: 8.5946 - val_loss: 6.6966 - val_mae: 7.1815\n",
            "Epoch 31/500\n",
            "8/8 [==============================] - 0s 52ms/step - loss: 8.2891 - mae: 8.7696 - val_loss: 6.1268 - val_mae: 6.6057\n",
            "Epoch 32/500\n",
            "8/8 [==============================] - 0s 53ms/step - loss: 7.8279 - mae: 8.3091 - val_loss: 6.6856 - val_mae: 7.1703\n",
            "Epoch 33/500\n",
            "8/8 [==============================] - 0s 54ms/step - loss: 7.5582 - mae: 8.0386 - val_loss: 6.0753 - val_mae: 6.5512\n",
            "Epoch 34/500\n",
            "8/8 [==============================] - 0s 50ms/step - loss: 7.6733 - mae: 8.1546 - val_loss: 6.3348 - val_mae: 6.8185\n",
            "Epoch 35/500\n",
            "8/8 [==============================] - 0s 54ms/step - loss: 7.6514 - mae: 8.1313 - val_loss: 6.0378 - val_mae: 6.5139\n",
            "Epoch 36/500\n",
            "8/8 [==============================] - 1s 64ms/step - loss: 7.1951 - mae: 7.6757 - val_loss: 6.1865 - val_mae: 6.6674\n",
            "Epoch 37/500\n",
            "8/8 [==============================] - 1s 60ms/step - loss: 7.1835 - mae: 7.6644 - val_loss: 6.0785 - val_mae: 6.5581\n",
            "Epoch 38/500\n",
            "8/8 [==============================] - 0s 51ms/step - loss: 7.1821 - mae: 7.6639 - val_loss: 6.0684 - val_mae: 6.5479\n",
            "Epoch 39/500\n",
            "8/8 [==============================] - 0s 57ms/step - loss: 7.5522 - mae: 8.0341 - val_loss: 6.1053 - val_mae: 6.5854\n",
            "Epoch 40/500\n",
            "8/8 [==============================] - 0s 51ms/step - loss: 7.1238 - mae: 7.6051 - val_loss: 5.9208 - val_mae: 6.3990\n",
            "Epoch 41/500\n",
            "8/8 [==============================] - 0s 52ms/step - loss: 7.0490 - mae: 7.5300 - val_loss: 5.9483 - val_mae: 6.4270\n",
            "Epoch 42/500\n",
            "8/8 [==============================] - 0s 53ms/step - loss: 7.0394 - mae: 7.5211 - val_loss: 5.9384 - val_mae: 6.4174\n",
            "Epoch 43/500\n",
            "8/8 [==============================] - 0s 54ms/step - loss: 7.1819 - mae: 7.6634 - val_loss: 5.8196 - val_mae: 6.2968\n",
            "Epoch 44/500\n",
            "8/8 [==============================] - 0s 50ms/step - loss: 6.9857 - mae: 7.4667 - val_loss: 5.9777 - val_mae: 6.4585\n",
            "Epoch 45/500\n",
            "8/8 [==============================] - 0s 53ms/step - loss: 7.0825 - mae: 7.5638 - val_loss: 5.8453 - val_mae: 6.3236\n",
            "Epoch 46/500\n",
            "8/8 [==============================] - 0s 52ms/step - loss: 6.8581 - mae: 7.3402 - val_loss: 5.9745 - val_mae: 6.4567\n",
            "Epoch 47/500\n",
            "8/8 [==============================] - 1s 63ms/step - loss: 6.6321 - mae: 7.1124 - val_loss: 5.6930 - val_mae: 6.1683\n",
            "Epoch 48/500\n",
            "8/8 [==============================] - 1s 54ms/step - loss: 6.5500 - mae: 7.0303 - val_loss: 5.8916 - val_mae: 6.3713\n",
            "Epoch 49/500\n",
            "8/8 [==============================] - 0s 53ms/step - loss: 6.5469 - mae: 7.0276 - val_loss: 5.7787 - val_mae: 6.2573\n",
            "Epoch 50/500\n",
            "8/8 [==============================] - 1s 56ms/step - loss: 6.5396 - mae: 7.0195 - val_loss: 5.7283 - val_mae: 6.2063\n",
            "Epoch 51/500\n",
            "8/8 [==============================] - 0s 51ms/step - loss: 6.6121 - mae: 7.0926 - val_loss: 5.7470 - val_mae: 6.2248\n",
            "Epoch 52/500\n",
            "8/8 [==============================] - 0s 56ms/step - loss: 6.8080 - mae: 7.2887 - val_loss: 5.7311 - val_mae: 6.2093\n",
            "Epoch 53/500\n",
            "8/8 [==============================] - 0s 53ms/step - loss: 6.4075 - mae: 6.8870 - val_loss: 5.6912 - val_mae: 6.1687\n",
            "Epoch 54/500\n",
            "8/8 [==============================] - 0s 49ms/step - loss: 6.6859 - mae: 7.1663 - val_loss: 5.6069 - val_mae: 6.0830\n",
            "Epoch 55/500\n",
            "8/8 [==============================] - 0s 57ms/step - loss: 6.6095 - mae: 7.0908 - val_loss: 5.7314 - val_mae: 6.2103\n",
            "Epoch 56/500\n",
            "8/8 [==============================] - 0s 51ms/step - loss: 6.4046 - mae: 6.8850 - val_loss: 5.6089 - val_mae: 6.0850\n",
            "Epoch 57/500\n",
            "8/8 [==============================] - 1s 61ms/step - loss: 6.5643 - mae: 7.0441 - val_loss: 5.7441 - val_mae: 6.2233\n",
            "Epoch 58/500\n",
            "8/8 [==============================] - 0s 50ms/step - loss: 6.4919 - mae: 6.9717 - val_loss: 5.5397 - val_mae: 6.0159\n",
            "Epoch 59/500\n",
            "8/8 [==============================] - 1s 57ms/step - loss: 6.4907 - mae: 6.9705 - val_loss: 5.5486 - val_mae: 6.0250\n",
            "Epoch 60/500\n",
            "8/8 [==============================] - 0s 54ms/step - loss: 6.3279 - mae: 6.8079 - val_loss: 5.6414 - val_mae: 6.1190\n",
            "Epoch 61/500\n",
            "8/8 [==============================] - 0s 55ms/step - loss: 6.4859 - mae: 6.9650 - val_loss: 5.4949 - val_mae: 5.9711\n",
            "Epoch 62/500\n",
            "8/8 [==============================] - 0s 53ms/step - loss: 6.2315 - mae: 6.7112 - val_loss: 5.6962 - val_mae: 6.1758\n",
            "Epoch 63/500\n",
            "8/8 [==============================] - 1s 59ms/step - loss: 6.3559 - mae: 6.8343 - val_loss: 5.4634 - val_mae: 5.9396\n",
            "Epoch 64/500\n",
            "8/8 [==============================] - 0s 52ms/step - loss: 6.1901 - mae: 6.6701 - val_loss: 5.6596 - val_mae: 6.1384\n",
            "Epoch 65/500\n",
            "8/8 [==============================] - 0s 54ms/step - loss: 6.2278 - mae: 6.7061 - val_loss: 5.4920 - val_mae: 5.9684\n",
            "Epoch 66/500\n",
            "8/8 [==============================] - 0s 50ms/step - loss: 6.3420 - mae: 6.8208 - val_loss: 5.5227 - val_mae: 5.9986\n",
            "Epoch 67/500\n",
            "8/8 [==============================] - 0s 49ms/step - loss: 6.2165 - mae: 6.6955 - val_loss: 5.5079 - val_mae: 5.9838\n",
            "Epoch 68/500\n",
            "8/8 [==============================] - 0s 55ms/step - loss: 6.3147 - mae: 6.7940 - val_loss: 5.5153 - val_mae: 5.9910\n",
            "Epoch 69/500\n",
            "8/8 [==============================] - 1s 57ms/step - loss: 6.2089 - mae: 6.6881 - val_loss: 5.5412 - val_mae: 6.0176\n",
            "Epoch 70/500\n",
            "8/8 [==============================] - 0s 51ms/step - loss: 6.3979 - mae: 6.8764 - val_loss: 5.3948 - val_mae: 5.8713\n",
            "Epoch 71/500\n",
            "8/8 [==============================] - 1s 59ms/step - loss: 6.1965 - mae: 6.6761 - val_loss: 5.5790 - val_mae: 6.0581\n",
            "Epoch 72/500\n",
            "8/8 [==============================] - 1s 55ms/step - loss: 6.0649 - mae: 6.5438 - val_loss: 5.4278 - val_mae: 5.9045\n",
            "Epoch 73/500\n",
            "8/8 [==============================] - 1s 69ms/step - loss: 6.1185 - mae: 6.5984 - val_loss: 5.5849 - val_mae: 6.0648\n",
            "Epoch 74/500\n",
            "8/8 [==============================] - 0s 53ms/step - loss: 6.0479 - mae: 6.5263 - val_loss: 5.4474 - val_mae: 5.9229\n",
            "Epoch 75/500\n",
            "8/8 [==============================] - 0s 52ms/step - loss: 6.0259 - mae: 6.5054 - val_loss: 5.5412 - val_mae: 6.0205\n",
            "Epoch 76/500\n",
            "8/8 [==============================] - 0s 56ms/step - loss: 6.1604 - mae: 6.6383 - val_loss: 5.4268 - val_mae: 5.9025\n",
            "Epoch 77/500\n",
            "8/8 [==============================] - 0s 51ms/step - loss: 6.1086 - mae: 6.5879 - val_loss: 5.4290 - val_mae: 5.9047\n",
            "Epoch 78/500\n",
            "8/8 [==============================] - 0s 49ms/step - loss: 6.0063 - mae: 6.4863 - val_loss: 5.4693 - val_mae: 5.9471\n",
            "Epoch 79/500\n",
            "8/8 [==============================] - 0s 49ms/step - loss: 6.0052 - mae: 6.4846 - val_loss: 5.4171 - val_mae: 5.8927\n",
            "Epoch 80/500\n",
            "8/8 [==============================] - 0s 50ms/step - loss: 5.8926 - mae: 6.3712 - val_loss: 5.5149 - val_mae: 5.9946\n",
            "Epoch 81/500\n",
            "8/8 [==============================] - 0s 51ms/step - loss: 5.8411 - mae: 6.3202 - val_loss: 5.4300 - val_mae: 5.9063\n",
            "Epoch 82/500\n",
            "8/8 [==============================] - 0s 51ms/step - loss: 5.8699 - mae: 6.3499 - val_loss: 5.4134 - val_mae: 5.8897\n",
            "CPU times: user 58.3 s, sys: 6.99 s, total: 1min 5s\n",
            "Wall time: 42.9 s\n"
          ],
          "name": "stdout"
        }
      ]
    },
    {
      "cell_type": "code",
      "metadata": {
        "id": "Y_IjL0gel_jb"
      },
      "source": [
        "rnn_forecast = model_forecast(model, series[..., np.newaxis], window_size)\n",
        "rnn_forecast = rnn_forecast[split_time - window_size:-1, -1, 0]"
      ],
      "execution_count": 49,
      "outputs": []
    },
    {
      "cell_type": "code",
      "metadata": {
        "colab": {
          "base_uri": "https://localhost:8080/",
          "height": 388
        },
        "id": "1l2mUEY0mCEl",
        "outputId": "0211223a-c474-4456-95c0-79457f0393ac"
      },
      "source": [
        "plt.figure(figsize=(10,6))\n",
        "plot_series(time_valid,x_valid)\n",
        "plot_series(time_valid,rnn_forecast)"
      ],
      "execution_count": 50,
      "outputs": [
        {
          "output_type": "display_data",
          "data": {
            "image/png": "[encoded data removed]",
            "text/plain": [
              "<Figure size 720x432 with 1 Axes>"
            ]
          },
          "metadata": {
            "tags": [],
            "needs_background": "light"
          }
        }
      ]
    },
    {
      "cell_type": "code",
      "metadata": {
        "colab": {
          "base_uri": "https://localhost:8080/"
        },
        "id": "ThKIB7gmmGcq",
        "outputId": "d8ade2ab-0f25-413e-e3ff-7627367f44c7"
      },
      "source": [
        "keras.metrics.mean_absolute_error(x_valid,rnn_forecast).numpy()"
      ],
      "execution_count": 51,
      "outputs": [
        {
          "output_type": "execute_result",
          "data": {
            "text/plain": [
              "5.37268"
            ]
          },
          "metadata": {
            "tags": []
          },
          "execution_count": 51
        }
      ]
    },
    {
      "cell_type": "code",
      "metadata": {
        "id": "UjIxRoDpmQ14"
      },
      "source": [
        ""
      ],
      "execution_count": null,
      "outputs": []
    }
  ]
}
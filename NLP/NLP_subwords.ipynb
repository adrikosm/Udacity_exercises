{
  "nbformat": 4,
  "nbformat_minor": 0,
  "metadata": {
    "colab": {
      "name": "NLP_subwords.ipynb",
      "provenance": [],
      "collapsed_sections": []
    },
    "kernelspec": {
      "name": "python3",
      "display_name": "Python 3"
    },
    "language_info": {
      "name": "python"
    },
    "accelerator": "GPU"
  },
  "cells": [
    {
      "cell_type": "markdown",
      "metadata": {
        "id": "na7KsqzBTQ3X"
      },
      "source": [
        "# Imports"
      ]
    },
    {
      "cell_type": "code",
      "metadata": {
        "id": "2He2tM6pTOD3"
      },
      "source": [
        "import tensorflow as tf\n",
        "import tensorflow_datasets as tfds\n",
        "import pandas as pd\n",
        "import numpy as np\n",
        "import matplotlib.pyplot as plt\n",
        "import io\n",
        "\n",
        "from tensorflow.keras.preprocessing.sequence import pad_sequences"
      ],
      "execution_count": 1,
      "outputs": []
    },
    {
      "cell_type": "markdown",
      "metadata": {
        "id": "7LQ9cBNFTfAL"
      },
      "source": [
        "# Get the dataset"
      ]
    },
    {
      "cell_type": "code",
      "metadata": {
        "colab": {
          "base_uri": "https://localhost:8080/"
        },
        "id": "6wIrA9QLTa5u",
        "outputId": "91bd9642-93ac-4150-b73e-d666fac7dab8"
      },
      "source": [
        "!wget --no-check-certificate \\\n",
        "    https://drive.google.com/uc?id=13ySLC_ue6Umt9RJYSeM2t-V0kCv-4C-P \\\n",
        "    -O /tmp/sentiment.csv"
      ],
      "execution_count": 2,
      "outputs": [
        {
          "output_type": "stream",
          "text": [
            "--2021-04-03 20:09:52--  https://drive.google.com/uc?id=13ySLC_ue6Umt9RJYSeM2t-V0kCv-4C-P\n",
            "Resolving drive.google.com (drive.google.com)... 74.125.142.101, 74.125.142.113, 74.125.142.138, ...\n",
            "Connecting to drive.google.com (drive.google.com)|74.125.142.101|:443... connected.\n",
            "HTTP request sent, awaiting response... 302 Moved Temporarily\n",
            "Location: https://doc-08-ak-docs.googleusercontent.com/docs/securesc/ha0ro937gcuc7l7deffksulhg5h7mbp1/nrh2jjmjcbl786lo77ho0d8qgkto2m9p/1617480525000/11118900490791463723/*/13ySLC_ue6Umt9RJYSeM2t-V0kCv-4C-P [following]\n",
            "Warning: wildcards not supported in HTTP.\n",
            "--2021-04-03 20:09:53--  https://doc-08-ak-docs.googleusercontent.com/docs/securesc/ha0ro937gcuc7l7deffksulhg5h7mbp1/nrh2jjmjcbl786lo77ho0d8qgkto2m9p/1617480525000/11118900490791463723/*/13ySLC_ue6Umt9RJYSeM2t-V0kCv-4C-P\n",
            "Resolving doc-08-ak-docs.googleusercontent.com (doc-08-ak-docs.googleusercontent.com)... 74.125.142.132, 2607:f8b0:400e:c08::84\n",
            "Connecting to doc-08-ak-docs.googleusercontent.com (doc-08-ak-docs.googleusercontent.com)|74.125.142.132|:443... connected.\n",
            "HTTP request sent, awaiting response... 200 OK\n",
            "Length: 127831 (125K) [text/csv]\n",
            "Saving to: ‘/tmp/sentiment.csv’\n",
            "\n",
            "/tmp/sentiment.csv  100%[===================>] 124.83K  --.-KB/s    in 0.001s  \n",
            "\n",
            "2021-04-03 20:09:53 (128 MB/s) - ‘/tmp/sentiment.csv’ saved [127831/127831]\n",
            "\n"
          ],
          "name": "stdout"
        }
      ]
    },
    {
      "cell_type": "code",
      "metadata": {
        "id": "LW6llsfDTisw"
      },
      "source": [
        "dataset = pd.read_csv('/tmp/sentiment.csv')\n",
        "\n",
        "sentences = dataset['text'].tolist()\n",
        "labels = dataset['sentiment'].tolist()"
      ],
      "execution_count": 3,
      "outputs": []
    },
    {
      "cell_type": "markdown",
      "metadata": {
        "id": "5w9iA1r8TxoR"
      },
      "source": [
        "# Create a subword dataset"
      ]
    },
    {
      "cell_type": "code",
      "metadata": {
        "colab": {
          "base_uri": "https://localhost:8080/"
        },
        "id": "DXYYR6HHTspQ",
        "outputId": "f9a1f3ce-0754-4379-b0b7-787844909c16"
      },
      "source": [
        "vocab_size = 1000\n",
        "tokenizer = tfds.deprecated.text.SubwordTextEncoder.build_from_corpus(sentences,\n",
        "                                                                      vocab_size, \n",
        "                                                                      max_subword_length=5)\n",
        "num = 5\n",
        "print(sentences[num])\n",
        "encoded = tokenizer.encode(sentences[num])\n",
        "print(encoded)"
      ],
      "execution_count": 4,
      "outputs": [
        {
          "output_type": "stream",
          "text": [
            "I have to jiggle the plug to get it to line up right to get decent volume.\n",
            "[4, 31, 6, 849, 162, 450, 12, 1, 600, 438, 775, 6, 175, 14, 6, 55, 213, 159, 474, 775, 6, 175, 614, 380, 295, 148, 72, 789]\n"
          ],
          "name": "stdout"
        }
      ]
    },
    {
      "cell_type": "code",
      "metadata": {
        "colab": {
          "base_uri": "https://localhost:8080/"
        },
        "id": "eZhyJw3-UUiY",
        "outputId": "a17ea9f1-7ab6-4d4c-faa0-dd7a7ffa024a"
      },
      "source": [
        "# Separately print out each subword\n",
        "for i in encoded:\n",
        "  print(tokenizer.decode([i]))"
      ],
      "execution_count": 5,
      "outputs": [
        {
          "output_type": "stream",
          "text": [
            "I \n",
            "have \n",
            "to \n",
            "j\n",
            "ig\n",
            "gl\n",
            "e \n",
            "the \n",
            "pl\n",
            "ug\n",
            " \n",
            "to \n",
            "get \n",
            "it \n",
            "to \n",
            "li\n",
            "ne \n",
            "up \n",
            "right\n",
            " \n",
            "to \n",
            "get \n",
            "dec\n",
            "ent \n",
            "vo\n",
            "lu\n",
            "me\n",
            ".\n"
          ],
          "name": "stdout"
        }
      ]
    },
    {
      "cell_type": "markdown",
      "metadata": {
        "id": "Z_pUmhSkUo7f"
      },
      "source": [
        "# Replace sentence data with encoded subwords"
      ]
    },
    {
      "cell_type": "code",
      "metadata": {
        "id": "dAn0KbeEUlWv"
      },
      "source": [
        "for i, sentence in enumerate(sentences):\n",
        "  sentences[i] = tokenizer.encode(sentence)"
      ],
      "execution_count": 6,
      "outputs": []
    },
    {
      "cell_type": "code",
      "metadata": {
        "colab": {
          "base_uri": "https://localhost:8080/"
        },
        "id": "1FbKS4hfUzs-",
        "outputId": "129c3989-d94f-4446-d60e-417f7b83a015"
      },
      "source": [
        "print(sentences[1])"
      ],
      "execution_count": 7,
      "outputs": [
        {
          "output_type": "stream",
          "text": [
            "[625, 677, 626, 274, 380, 633, 148, 844, 789]\n"
          ],
          "name": "stdout"
        }
      ]
    },
    {
      "cell_type": "markdown",
      "metadata": {
        "id": "_7hIYMI4VBTJ"
      },
      "source": [
        "# Some pre-processing"
      ]
    },
    {
      "cell_type": "code",
      "metadata": {
        "id": "-yNN_7BMU_WA"
      },
      "source": [
        "max_length = 50\n",
        "trunc_type='post'\n",
        "padding_type='post'\n",
        "\n",
        "sentences_padded = pad_sequences(sentences, maxlen=max_length, \n",
        "                                 padding=padding_type, truncating=trunc_type)\n",
        "\n",
        "# Separate out the sentences and labels into training and test sets\n",
        "training_size = int(len(sentences) * 0.8)\n",
        "\n",
        "training_sentences = sentences_padded[0:training_size]\n",
        "testing_sentences = sentences_padded[training_size:]\n",
        "training_labels = labels[0:training_size]\n",
        "testing_labels = labels[training_size:]\n",
        "\n",
        "# Make labels into numpy arrays for use with the network later\n",
        "training_labels_final = np.array(training_labels)\n",
        "testing_labels_final = np.array(testing_labels)"
      ],
      "execution_count": 8,
      "outputs": []
    },
    {
      "cell_type": "markdown",
      "metadata": {
        "id": "QDk5Q2KNVJ9Z"
      },
      "source": [
        "# Train the model"
      ]
    },
    {
      "cell_type": "code",
      "metadata": {
        "colab": {
          "base_uri": "https://localhost:8080/"
        },
        "id": "84LLLB8NVJHu",
        "outputId": "fff85001-c780-4b61-f372-94c115b092df"
      },
      "source": [
        "embedding_dim = 16\n",
        "model = tf.keras.Sequential([\n",
        "    tf.keras.layers.Embedding(vocab_size, embedding_dim, input_length=max_length),\n",
        "    tf.keras.layers.GlobalAveragePooling1D(),\n",
        "    tf.keras.layers.Dense(6, activation='relu'),\n",
        "    tf.keras.layers.Dense(1, activation='sigmoid')\n",
        "])\n",
        "\n",
        "model.summary()\n"
      ],
      "execution_count": 9,
      "outputs": [
        {
          "output_type": "stream",
          "text": [
            "Model: \"sequential\"\n",
            "_________________________________________________________________\n",
            "Layer (type)                 Output Shape              Param #   \n",
            "=================================================================\n",
            "embedding (Embedding)        (None, 50, 16)            16000     \n",
            "_________________________________________________________________\n",
            "global_average_pooling1d (Gl (None, 16)                0         \n",
            "_________________________________________________________________\n",
            "dense (Dense)                (None, 6)                 102       \n",
            "_________________________________________________________________\n",
            "dense_1 (Dense)              (None, 1)                 7         \n",
            "=================================================================\n",
            "Total params: 16,109\n",
            "Trainable params: 16,109\n",
            "Non-trainable params: 0\n",
            "_________________________________________________________________\n"
          ],
          "name": "stdout"
        }
      ]
    },
    {
      "cell_type": "code",
      "metadata": {
        "colab": {
          "base_uri": "https://localhost:8080/"
        },
        "id": "gTmukSWxVZjx",
        "outputId": "b9a8e4c6-c4a4-419f-cf28-d8864ad843c4"
      },
      "source": [
        "# Compile the model\n",
        "num_epochs = 20\n",
        "\n",
        "model.compile(loss='binary_crossentropy',\n",
        "              optimizer='adam',\n",
        "              metrics=['accuracy'])\n",
        "\n",
        "# Fit the model\n",
        "history = model.fit(training_sentences,\n",
        "                    training_labels_final,\n",
        "                    epochs=num_epochs,\n",
        "                    validation_data=(testing_sentences,testing_labels_final))"
      ],
      "execution_count": 10,
      "outputs": [
        {
          "output_type": "stream",
          "text": [
            "Epoch 1/20\n",
            "50/50 [==============================] - 4s 12ms/step - loss: 0.6928 - accuracy: 0.4990 - val_loss: 0.6975 - val_accuracy: 0.4110\n",
            "Epoch 2/20\n",
            "50/50 [==============================] - 0s 4ms/step - loss: 0.6887 - accuracy: 0.5224 - val_loss: 0.6934 - val_accuracy: 0.4912\n",
            "Epoch 3/20\n",
            "50/50 [==============================] - 0s 4ms/step - loss: 0.6790 - accuracy: 0.5796 - val_loss: 0.6844 - val_accuracy: 0.5664\n",
            "Epoch 4/20\n",
            "50/50 [==============================] - 0s 4ms/step - loss: 0.6678 - accuracy: 0.6487 - val_loss: 0.6802 - val_accuracy: 0.5288\n",
            "Epoch 5/20\n",
            "50/50 [==============================] - 0s 4ms/step - loss: 0.6479 - accuracy: 0.6767 - val_loss: 0.6611 - val_accuracy: 0.5915\n",
            "Epoch 6/20\n",
            "50/50 [==============================] - 0s 4ms/step - loss: 0.6129 - accuracy: 0.7459 - val_loss: 0.6406 - val_accuracy: 0.6341\n",
            "Epoch 7/20\n",
            "50/50 [==============================] - 0s 4ms/step - loss: 0.5833 - accuracy: 0.7683 - val_loss: 0.6143 - val_accuracy: 0.6917\n",
            "Epoch 8/20\n",
            "50/50 [==============================] - 0s 4ms/step - loss: 0.5452 - accuracy: 0.8000 - val_loss: 0.5826 - val_accuracy: 0.7469\n",
            "Epoch 9/20\n",
            "50/50 [==============================] - 0s 4ms/step - loss: 0.5063 - accuracy: 0.8393 - val_loss: 0.5715 - val_accuracy: 0.7068\n",
            "Epoch 10/20\n",
            "50/50 [==============================] - 0s 5ms/step - loss: 0.4675 - accuracy: 0.8371 - val_loss: 0.5394 - val_accuracy: 0.7419\n",
            "Epoch 11/20\n",
            "50/50 [==============================] - 0s 4ms/step - loss: 0.4285 - accuracy: 0.8710 - val_loss: 0.5222 - val_accuracy: 0.7519\n",
            "Epoch 12/20\n",
            "50/50 [==============================] - 0s 4ms/step - loss: 0.4059 - accuracy: 0.8607 - val_loss: 0.5279 - val_accuracy: 0.7419\n",
            "Epoch 13/20\n",
            "50/50 [==============================] - 0s 4ms/step - loss: 0.3751 - accuracy: 0.8802 - val_loss: 0.5096 - val_accuracy: 0.7519\n",
            "Epoch 14/20\n",
            "50/50 [==============================] - 0s 4ms/step - loss: 0.3484 - accuracy: 0.8729 - val_loss: 0.5163 - val_accuracy: 0.7469\n",
            "Epoch 15/20\n",
            "50/50 [==============================] - 0s 4ms/step - loss: 0.3263 - accuracy: 0.8843 - val_loss: 0.4980 - val_accuracy: 0.7644\n",
            "Epoch 16/20\n",
            "50/50 [==============================] - 0s 4ms/step - loss: 0.2905 - accuracy: 0.8892 - val_loss: 0.4997 - val_accuracy: 0.7619\n",
            "Epoch 17/20\n",
            "50/50 [==============================] - 0s 4ms/step - loss: 0.2811 - accuracy: 0.9055 - val_loss: 0.5016 - val_accuracy: 0.7619\n",
            "Epoch 18/20\n",
            "50/50 [==============================] - 0s 4ms/step - loss: 0.2674 - accuracy: 0.9169 - val_loss: 0.5148 - val_accuracy: 0.7569\n",
            "Epoch 19/20\n",
            "50/50 [==============================] - 0s 4ms/step - loss: 0.2500 - accuracy: 0.9198 - val_loss: 0.5386 - val_accuracy: 0.7419\n",
            "Epoch 20/20\n",
            "50/50 [==============================] - 0s 4ms/step - loss: 0.2540 - accuracy: 0.9146 - val_loss: 0.5125 - val_accuracy: 0.7569\n"
          ],
          "name": "stdout"
        }
      ]
    },
    {
      "cell_type": "code",
      "metadata": {
        "id": "u2729ZrMVzL7"
      },
      "source": [
        "def plot_graphs(history,string):\n",
        "  plt.plot(history.history[string])\n",
        "  plt.plot(history.history['val_'+string])\n",
        "  plt.xlabel('Epochs')\n",
        "  plt.ylabel(string)\n",
        "  plt.legend([string,'val_'+string])\n",
        "  plt.show()"
      ],
      "execution_count": 11,
      "outputs": []
    },
    {
      "cell_type": "code",
      "metadata": {
        "colab": {
          "base_uri": "https://localhost:8080/",
          "height": 279
        },
        "id": "jNivK4ayWK0E",
        "outputId": "2860dd46-3261-4c3a-eef5-025a4f9f6a74"
      },
      "source": [
        "plot_graphs(history,'accuracy')"
      ],
      "execution_count": 12,
      "outputs": [
        {
          "output_type": "display_data",
          "data": {
            "image/png": "[encoded data removed]",
            "text/plain": [
              "<Figure size 432x288 with 1 Axes>"
            ]
          },
          "metadata": {
            "tags": [],
            "needs_background": "light"
          }
        }
      ]
    },
    {
      "cell_type": "code",
      "metadata": {
        "colab": {
          "base_uri": "https://localhost:8080/",
          "height": 279
        },
        "id": "sfln9V_KWM2D",
        "outputId": "33e8c3d3-3a1e-4f8d-8d78-7d17350e3cf0"
      },
      "source": [
        "plot_graphs(history,'loss')"
      ],
      "execution_count": 13,
      "outputs": [
        {
          "output_type": "display_data",
          "data": {
            "image/png": "[encoded data removed]",
            "text/plain": [
              "<Figure size 432x288 with 1 Axes>"
            ]
          },
          "metadata": {
            "tags": [],
            "needs_background": "light"
          }
        }
      ]
    },
    {
      "cell_type": "markdown",
      "metadata": {
        "id": "q61RgqrGWVkj"
      },
      "source": [
        "# Get files to visualize"
      ]
    },
    {
      "cell_type": "code",
      "metadata": {
        "colab": {
          "base_uri": "https://localhost:8080/"
        },
        "id": "71brpRBIWPMA",
        "outputId": "f02547ad-ce01-4269-d127-23929cf24e49"
      },
      "source": [
        "# First get the weights of the embedding layer\n",
        "e = model.layers[0]\n",
        "weights = e.get_weights()[0]\n",
        "print(weights.shape)"
      ],
      "execution_count": 14,
      "outputs": [
        {
          "output_type": "stream",
          "text": [
            "(1000, 16)\n"
          ],
          "name": "stdout"
        }
      ]
    },
    {
      "cell_type": "code",
      "metadata": {
        "id": "rmciIMi3WYCK"
      },
      "source": [
        "# Write out the embedding vectors and metadata\n",
        "out_v = io.open('vecs.tsv', 'w', encoding='utf-8')\n",
        "out_m = io.open('meta.tsv', 'w', encoding='utf-8')\n",
        "for word_num in range(0, vocab_size - 1):\n",
        "  word = tokenizer.decode([word_num])\n",
        "  embeddings = weights[word_num]\n",
        "  out_m.write(word + \"\\n\")\n",
        "  out_v.write('\\t'.join([str(x) for x in embeddings]) + \"\\n\")\n",
        "out_v.close()\n",
        "out_m.close()"
      ],
      "execution_count": 14,
      "outputs": []
    },
    {
      "cell_type": "markdown",
      "metadata": {
        "id": "UYBfAL31W1iy"
      },
      "source": [
        "# Dowload files to go to `project tensorflow` to visualize them"
      ]
    },
    {
      "cell_type": "code",
      "metadata": {
        "id": "LpqnEv8iW0Py"
      },
      "source": [
        "# Download the files\n",
        "try:\n",
        "  from google.colab import files\n",
        "except ImportError:\n",
        "  pass\n",
        "else:\n",
        "  files.download('vecs.tsv')\n",
        "  files.download('meta.tsv')"
      ],
      "execution_count": null,
      "outputs": []
    }
  ]
}
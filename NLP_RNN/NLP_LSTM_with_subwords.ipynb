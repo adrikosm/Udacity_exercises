{
  "nbformat": 4,
  "nbformat_minor": 0,
  "metadata": {
    "colab": {
      "name": "NLP_LSTM_with_subwords.ipynb",
      "provenance": []
    },
    "kernelspec": {
      "name": "python3",
      "display_name": "Python 3"
    },
    "language_info": {
      "name": "python"
    },
    "accelerator": "GPU"
  },
  "cells": [
    {
      "cell_type": "markdown",
      "metadata": {
        "id": "vnxMa3CrdmAc"
      },
      "source": [
        "# Imports"
      ]
    },
    {
      "cell_type": "code",
      "metadata": {
        "id": "FI5JPDYwYSr3"
      },
      "source": [
        "import tensorflow as tf\n",
        "import tensorflow_datasets as tfds\n",
        "from tensorflow.keras.preprocessing.sequence import pad_sequences\n",
        "\n",
        "import pandas as pd\n",
        "import numpy as np\n",
        "import matplotlib.pyplot as plt"
      ],
      "execution_count": 2,
      "outputs": []
    },
    {
      "cell_type": "markdown",
      "metadata": {
        "id": "Y3XOnbUyeIyN"
      },
      "source": [
        "# Get the dataset"
      ]
    },
    {
      "cell_type": "code",
      "metadata": {
        "colab": {
          "base_uri": "https://localhost:8080/"
        },
        "id": "6_KK17aQeKiO",
        "outputId": "0fcd2ef8-283b-4a77-c3ab-ada02cb8f2a5"
      },
      "source": [
        "!wget --no-check-certificate \\\n",
        "    https://drive.google.com/uc?id=13ySLC_ue6Umt9RJYSeM2t-V0kCv-4C-P -O /tmp/sentiment.csv"
      ],
      "execution_count": 1,
      "outputs": [
        {
          "output_type": "stream",
          "text": [
            "--2021-04-03 20:42:06--  https://drive.google.com/uc?id=13ySLC_ue6Umt9RJYSeM2t-V0kCv-4C-P\n",
            "Resolving drive.google.com (drive.google.com)... 172.217.15.78, 2607:f8b0:4004:810::200e\n",
            "Connecting to drive.google.com (drive.google.com)|172.217.15.78|:443... connected.\n",
            "HTTP request sent, awaiting response... 302 Moved Temporarily\n",
            "Location: https://doc-08-ak-docs.googleusercontent.com/docs/securesc/ha0ro937gcuc7l7deffksulhg5h7mbp1/hq73afo1oi4n9bn6r8guoqro5irfgq88/1617482475000/11118900490791463723/*/13ySLC_ue6Umt9RJYSeM2t-V0kCv-4C-P [following]\n",
            "Warning: wildcards not supported in HTTP.\n",
            "--2021-04-03 20:42:06--  https://doc-08-ak-docs.googleusercontent.com/docs/securesc/ha0ro937gcuc7l7deffksulhg5h7mbp1/hq73afo1oi4n9bn6r8guoqro5irfgq88/1617482475000/11118900490791463723/*/13ySLC_ue6Umt9RJYSeM2t-V0kCv-4C-P\n",
            "Resolving doc-08-ak-docs.googleusercontent.com (doc-08-ak-docs.googleusercontent.com)... 172.217.12.225, 2607:f8b0:4004:807::2001\n",
            "Connecting to doc-08-ak-docs.googleusercontent.com (doc-08-ak-docs.googleusercontent.com)|172.217.12.225|:443... connected.\n",
            "HTTP request sent, awaiting response... 200 OK\n",
            "Length: 127831 (125K) [text/csv]\n",
            "Saving to: ‘/tmp/sentiment.csv’\n",
            "\n",
            "/tmp/sentiment.csv  100%[===================>] 124.83K  --.-KB/s    in 0.02s   \n",
            "\n",
            "2021-04-03 20:42:06 (7.57 MB/s) - ‘/tmp/sentiment.csv’ saved [127831/127831]\n",
            "\n"
          ],
          "name": "stdout"
        }
      ]
    },
    {
      "cell_type": "code",
      "metadata": {
        "id": "_P4Kw4lkeKyn"
      },
      "source": [
        "dataset = pd.read_csv('/tmp/sentiment.csv')\n",
        "\n",
        "# Extract out sentences and labels\n",
        "sentences = dataset['text'].tolist()\n",
        "labels = dataset['sentiment'].tolist()"
      ],
      "execution_count": 3,
      "outputs": []
    },
    {
      "cell_type": "markdown",
      "metadata": {
        "id": "8wezP8hQePoR"
      },
      "source": [
        "# Create a subword dataset"
      ]
    },
    {
      "cell_type": "code",
      "metadata": {
        "colab": {
          "base_uri": "https://localhost:8080/"
        },
        "id": "qCdvEoGreNRb",
        "outputId": "3eaef5a1-57d7-4838-858a-20c323fb825f"
      },
      "source": [
        "vocab_size = 1000\n",
        "tokenizer = tfds.deprecated.text.SubwordTextEncoder.build_from_corpus(sentences, \n",
        "                                                                      vocab_size, \n",
        "                                                                      max_subword_length=5)\n",
        "print(\"Vocab size is \", tokenizer.vocab_size)"
      ],
      "execution_count": 4,
      "outputs": [
        {
          "output_type": "stream",
          "text": [
            "Vocab size is  999\n"
          ],
          "name": "stdout"
        }
      ]
    },
    {
      "cell_type": "markdown",
      "metadata": {
        "id": "kzfXfIOkepln"
      },
      "source": [
        "# Replace sentence data with encoded subwords"
      ]
    },
    {
      "cell_type": "code",
      "metadata": {
        "id": "LyovorTDelnt"
      },
      "source": [
        "for i, sentence in enumerate(sentences):\n",
        "  sentences[i] = tokenizer.encode(sentence)"
      ],
      "execution_count": 6,
      "outputs": []
    },
    {
      "cell_type": "code",
      "metadata": {
        "colab": {
          "base_uri": "https://localhost:8080/"
        },
        "id": "GhtPALsnexcG",
        "outputId": "0fc4e802-b0e3-42b4-9e8e-e371dc673f6d"
      },
      "source": [
        "# Check if the encoding went well\n",
        "print(sentences[5])"
      ],
      "execution_count": 8,
      "outputs": [
        {
          "output_type": "stream",
          "text": [
            "[4, 31, 6, 849, 162, 450, 12, 1, 600, 438, 775, 6, 175, 14, 6, 55, 213, 159, 474, 775, 6, 175, 614, 380, 295, 148, 72, 789]\n"
          ],
          "name": "stdout"
        }
      ]
    },
    {
      "cell_type": "code",
      "metadata": {
        "id": "exrxA6C5eygn"
      },
      "source": [
        "max_length = 50\n",
        "trunc_type='post'\n",
        "padding_type='post'\n",
        "\n",
        "sequences_padded = pad_sequences(sentences, \n",
        "                                 maxlen=max_length, \n",
        "                                 padding=padding_type, \n",
        "                                 truncating=trunc_type)"
      ],
      "execution_count": 9,
      "outputs": []
    },
    {
      "cell_type": "code",
      "metadata": {
        "id": "sQTqbYDie8wZ"
      },
      "source": [
        "# Separate out the sentences and labels into training and test sets\n",
        "training_size = int(len(sentences) * 0.8)\n",
        "\n",
        "training_sequences = sequences_padded[0:training_size]\n",
        "testing_sequences = sequences_padded[training_size:]\n",
        "training_labels = labels[0:training_size]\n",
        "testing_labels = labels[training_size:]"
      ],
      "execution_count": 10,
      "outputs": []
    },
    {
      "cell_type": "code",
      "metadata": {
        "id": "Pl4X6JVwe9_-"
      },
      "source": [
        "# Make labels into numpy arrays for use with the network later\n",
        "training_labels_final = np.array(training_labels)\n",
        "testing_labels_final = np.array(testing_labels)"
      ],
      "execution_count": 11,
      "outputs": []
    },
    {
      "cell_type": "code",
      "metadata": {
        "colab": {
          "base_uri": "https://localhost:8080/"
        },
        "id": "2vIj9EV-e_IB",
        "outputId": "5bfde14f-3988-4347-f5d4-24d9f8e4134f"
      },
      "source": [
        "# Create the model\n",
        "embedding_dim = 16\n",
        "\n",
        "model = tf.keras.Sequential([\n",
        "    tf.keras.layers.Embedding(vocab_size,\n",
        "                              embedding_dim,\n",
        "                              input_length = max_length),\n",
        "    tf.keras.layers.GlobalAveragePooling1D(),\n",
        "    tf.keras.layers.Dense(5,activation=\"relu\"),\n",
        "    tf.keras.layers.Dense(1,activation=\"sigmoid\")\n",
        "])\n",
        "\n",
        "model.summary()"
      ],
      "execution_count": 13,
      "outputs": [
        {
          "output_type": "stream",
          "text": [
            "Model: \"sequential\"\n",
            "_________________________________________________________________\n",
            "Layer (type)                 Output Shape              Param #   \n",
            "=================================================================\n",
            "embedding (Embedding)        (None, 50, 16)            16000     \n",
            "_________________________________________________________________\n",
            "global_average_pooling1d (Gl (None, 16)                0         \n",
            "_________________________________________________________________\n",
            "dense (Dense)                (None, 5)                 85        \n",
            "_________________________________________________________________\n",
            "dense_1 (Dense)              (None, 1)                 6         \n",
            "=================================================================\n",
            "Total params: 16,091\n",
            "Trainable params: 16,091\n",
            "Non-trainable params: 0\n",
            "_________________________________________________________________\n"
          ],
          "name": "stdout"
        }
      ]
    },
    {
      "cell_type": "code",
      "metadata": {
        "colab": {
          "base_uri": "https://localhost:8080/"
        },
        "id": "JmNWzqymfd2C",
        "outputId": "3890a21b-f7da-4248-d6e9-88f9f24070e1"
      },
      "source": [
        "num_epochs = 30\n",
        "\n",
        "model.compile(loss = 'binary_crossentropy',\n",
        "              optimizer='adam',\n",
        "              metrics=['accuracy'])\n",
        "\n",
        "history = model.fit(training_sequences,\n",
        "                    training_labels_final,\n",
        "                    epochs = num_epochs,\n",
        "                    validation_data=(testing_sequences, testing_labels_final))"
      ],
      "execution_count": 14,
      "outputs": [
        {
          "output_type": "stream",
          "text": [
            "Epoch 1/30\n",
            "50/50 [==============================] - 4s 12ms/step - loss: 0.6932 - accuracy: 0.4777 - val_loss: 0.6945 - val_accuracy: 0.4110\n",
            "Epoch 2/30\n",
            "50/50 [==============================] - 0s 4ms/step - loss: 0.6923 - accuracy: 0.5333 - val_loss: 0.6937 - val_accuracy: 0.4361\n",
            "Epoch 3/30\n",
            "50/50 [==============================] - 0s 4ms/step - loss: 0.6909 - accuracy: 0.5667 - val_loss: 0.6919 - val_accuracy: 0.5113\n",
            "Epoch 4/30\n",
            "50/50 [==============================] - 0s 4ms/step - loss: 0.6886 - accuracy: 0.6606 - val_loss: 0.6882 - val_accuracy: 0.6090\n",
            "Epoch 5/30\n",
            "50/50 [==============================] - 0s 4ms/step - loss: 0.6826 - accuracy: 0.7250 - val_loss: 0.6799 - val_accuracy: 0.7293\n",
            "Epoch 6/30\n",
            "50/50 [==============================] - 0s 4ms/step - loss: 0.6728 - accuracy: 0.7709 - val_loss: 0.6701 - val_accuracy: 0.6867\n",
            "Epoch 7/30\n",
            "50/50 [==============================] - 0s 4ms/step - loss: 0.6471 - accuracy: 0.7927 - val_loss: 0.6471 - val_accuracy: 0.7293\n",
            "Epoch 8/30\n",
            "50/50 [==============================] - 0s 4ms/step - loss: 0.6184 - accuracy: 0.7867 - val_loss: 0.6238 - val_accuracy: 0.7343\n",
            "Epoch 9/30\n",
            "50/50 [==============================] - 0s 4ms/step - loss: 0.5782 - accuracy: 0.8045 - val_loss: 0.5951 - val_accuracy: 0.7870\n",
            "Epoch 10/30\n",
            "50/50 [==============================] - 0s 4ms/step - loss: 0.5392 - accuracy: 0.8307 - val_loss: 0.5793 - val_accuracy: 0.7669\n",
            "Epoch 11/30\n",
            "50/50 [==============================] - 0s 4ms/step - loss: 0.5064 - accuracy: 0.8295 - val_loss: 0.5615 - val_accuracy: 0.7544\n",
            "Epoch 12/30\n",
            "50/50 [==============================] - 0s 4ms/step - loss: 0.4648 - accuracy: 0.8409 - val_loss: 0.5375 - val_accuracy: 0.7870\n",
            "Epoch 13/30\n",
            "50/50 [==============================] - 0s 4ms/step - loss: 0.4419 - accuracy: 0.8705 - val_loss: 0.5197 - val_accuracy: 0.8020\n",
            "Epoch 14/30\n",
            "50/50 [==============================] - 0s 4ms/step - loss: 0.4097 - accuracy: 0.8781 - val_loss: 0.5131 - val_accuracy: 0.7769\n",
            "Epoch 15/30\n",
            "50/50 [==============================] - 0s 4ms/step - loss: 0.3853 - accuracy: 0.8795 - val_loss: 0.5209 - val_accuracy: 0.7444\n",
            "Epoch 16/30\n",
            "50/50 [==============================] - 0s 4ms/step - loss: 0.3620 - accuracy: 0.8892 - val_loss: 0.5019 - val_accuracy: 0.7644\n",
            "Epoch 17/30\n",
            "50/50 [==============================] - 0s 4ms/step - loss: 0.3341 - accuracy: 0.8914 - val_loss: 0.5100 - val_accuracy: 0.7544\n",
            "Epoch 18/30\n",
            "50/50 [==============================] - 0s 4ms/step - loss: 0.3392 - accuracy: 0.8834 - val_loss: 0.4992 - val_accuracy: 0.7569\n",
            "Epoch 19/30\n",
            "50/50 [==============================] - 0s 4ms/step - loss: 0.3253 - accuracy: 0.8852 - val_loss: 0.5003 - val_accuracy: 0.7544\n",
            "Epoch 20/30\n",
            "50/50 [==============================] - 0s 4ms/step - loss: 0.2935 - accuracy: 0.8942 - val_loss: 0.5110 - val_accuracy: 0.7519\n",
            "Epoch 21/30\n",
            "50/50 [==============================] - 0s 4ms/step - loss: 0.2750 - accuracy: 0.9158 - val_loss: 0.4978 - val_accuracy: 0.7544\n",
            "Epoch 22/30\n",
            "50/50 [==============================] - 0s 4ms/step - loss: 0.2638 - accuracy: 0.9169 - val_loss: 0.5114 - val_accuracy: 0.7519\n",
            "Epoch 23/30\n",
            "50/50 [==============================] - 0s 4ms/step - loss: 0.2522 - accuracy: 0.9106 - val_loss: 0.5134 - val_accuracy: 0.7544\n",
            "Epoch 24/30\n",
            "50/50 [==============================] - 0s 4ms/step - loss: 0.2490 - accuracy: 0.9197 - val_loss: 0.5300 - val_accuracy: 0.7444\n",
            "Epoch 25/30\n",
            "50/50 [==============================] - 0s 4ms/step - loss: 0.2320 - accuracy: 0.9231 - val_loss: 0.5134 - val_accuracy: 0.7569\n",
            "Epoch 26/30\n",
            "50/50 [==============================] - 0s 4ms/step - loss: 0.2233 - accuracy: 0.9294 - val_loss: 0.5312 - val_accuracy: 0.7569\n",
            "Epoch 27/30\n",
            "50/50 [==============================] - 0s 4ms/step - loss: 0.2218 - accuracy: 0.9306 - val_loss: 0.5274 - val_accuracy: 0.7519\n",
            "Epoch 28/30\n",
            "50/50 [==============================] - 0s 4ms/step - loss: 0.2041 - accuracy: 0.9357 - val_loss: 0.5302 - val_accuracy: 0.7469\n",
            "Epoch 29/30\n",
            "50/50 [==============================] - 0s 4ms/step - loss: 0.2157 - accuracy: 0.9173 - val_loss: 0.5458 - val_accuracy: 0.7519\n",
            "Epoch 30/30\n",
            "50/50 [==============================] - 0s 4ms/step - loss: 0.1887 - accuracy: 0.9397 - val_loss: 0.5379 - val_accuracy: 0.7469\n"
          ],
          "name": "stdout"
        }
      ]
    },
    {
      "cell_type": "code",
      "metadata": {
        "id": "4pLu0qKYf_rJ"
      },
      "source": [
        "def plot_graphs(history,string):\n",
        "  plt.plot(history.history[string])\n",
        "  plt.plot(history.history['val_'+string])\n",
        "  plt.xlabel('Epochs')\n",
        "  plt.ylabel(string)\n",
        "  plt.legend([string,'val_'+string])\n",
        "  plt.show()"
      ],
      "execution_count": 15,
      "outputs": []
    },
    {
      "cell_type": "code",
      "metadata": {
        "colab": {
          "base_uri": "https://localhost:8080/",
          "height": 279
        },
        "id": "CUYh_0hcgY-r",
        "outputId": "3c7a1923-451c-4a6f-bb2d-50e48f2b5f4b"
      },
      "source": [
        "plot_graphs(history,'accuracy')"
      ],
      "execution_count": 16,
      "outputs": [
        {
          "output_type": "display_data",
          "data": {
            "image/png": "[encoded data removed]",
            "text/plain": [
              "<Figure size 432x288 with 1 Axes>"
            ]
          },
          "metadata": {
            "tags": [],
            "needs_background": "light"
          }
        }
      ]
    },
    {
      "cell_type": "code",
      "metadata": {
        "colab": {
          "base_uri": "https://localhost:8080/",
          "height": 279
        },
        "id": "lrHOJD5Agbts",
        "outputId": "6a3ca7f8-86aa-4462-ae45-bf50f754be3f"
      },
      "source": [
        "plot_graphs(history,'loss')"
      ],
      "execution_count": 17,
      "outputs": [
        {
          "output_type": "display_data",
          "data": {
            "image/png": "[encoded data removed]",
            "text/plain": [
              "<Figure size 432x288 with 1 Axes>"
            ]
          },
          "metadata": {
            "tags": [],
            "needs_background": "light"
          }
        }
      ]
    },
    {
      "cell_type": "code",
      "metadata": {
        "id": "EZeiyoxjgeG2"
      },
      "source": [
        "def predict_review(model, new_sentences, maxlen=max_length, show_padded_sequence=True ):\n",
        "  # Keep the original sentences so that we can keep using them later\n",
        "  # Create an array to hold the encoded sequences\n",
        "  new_sequences = []\n",
        "\n",
        "  # Convert the new reviews to sequences\n",
        "  for i, frvw in enumerate(new_sentences):\n",
        "    new_sequences.append(tokenizer.encode(frvw))\n",
        "\n",
        "  trunc_type='post' \n",
        "  padding_type='post'\n",
        "\n",
        "  # Pad all sequences for the new reviews\n",
        "  new_reviews_padded = pad_sequences(new_sequences, maxlen=max_length, \n",
        "                                 padding=padding_type, truncating=trunc_type)             \n",
        "\n",
        "  classes = model.predict(new_reviews_padded)\n",
        "\n",
        "  # The closer the class is to 1, the more positive the review is\n",
        "  for x in range(len(new_sentences)):\n",
        "    \n",
        "    # We can see the padded sequence if desired\n",
        "    # Print the sequence\n",
        "    if (show_padded_sequence):\n",
        "      print(new_reviews_padded[x])\n",
        "    # Print the review as text\n",
        "    print(new_sentences[x])\n",
        "    # Print its predicted class\n",
        "    print(classes[x])\n",
        "    print(\"\\n\")"
      ],
      "execution_count": 18,
      "outputs": []
    },
    {
      "cell_type": "markdown",
      "metadata": {
        "id": "Qiv2fmXIgi7B"
      },
      "source": [
        "# Text on some fake reviews"
      ]
    },
    {
      "cell_type": "code",
      "metadata": {
        "colab": {
          "base_uri": "https://localhost:8080/"
        },
        "id": "j2E87PL9giQ0",
        "outputId": "f3cd81d6-4626-43a8-f681-b94446d69896"
      },
      "source": [
        "fake_reviews = [\"I love this phone\", \n",
        "                \"Everything was cold\",\n",
        "                \"Everything was hot exactly as I wanted\", \n",
        "                \"Everything was green\", \n",
        "                \"the host seated us immediately\",\n",
        "                \"they gave us free chocolate cake\", \n",
        "                \"we couldn't hear each other talk because of the shouting in the kitchen\"\n",
        "              ]\n",
        "\n",
        "predict_review(model, fake_reviews)"
      ],
      "execution_count": 19,
      "outputs": [
        {
          "output_type": "stream",
          "text": [
            "[  4 281  16  25   0   0   0   0   0   0   0   0   0   0   0   0   0   0\n",
            "   0   0   0   0   0   0   0   0   0   0   0   0   0   0   0   0   0   0\n",
            "   0   0   0   0   0   0   0   0   0   0   0   0   0   0]\n",
            "I love this phone\n",
            "[0.8186372]\n",
            "\n",
            "\n",
            "[812 227 864 100 775   9 525 843   0   0   0   0   0   0   0   0   0   0\n",
            "   0   0   0   0   0   0   0   0   0   0   0   0   0   0   0   0   0   0\n",
            "   0   0   0   0   0   0   0   0   0   0   0   0   0   0]\n",
            "Everything was cold\n",
            "[0.10869813]\n",
            "\n",
            "\n",
            "[812 227 864 100 775   9 109   8 333 731  24  61   4 171  59  77   0   0\n",
            "   0   0   0   0   0   0   0   0   0   0   0   0   0   0   0   0   0   0\n",
            "   0   0   0   0   0   0   0   0   0   0   0   0   0   0]\n",
            "Everything was hot exactly as I wanted\n",
            "[0.25565493]\n",
            "\n",
            "\n",
            "[812 227 864 100 775   9 157 359 853   0   0   0   0   0   0   0   0   0\n",
            "   0   0   0   0   0   0   0   0   0   0   0   0   0   0   0   0   0   0\n",
            "   0   0   0   0   0   0   0   0   0   0   0   0   0   0]\n",
            "Everything was green\n",
            "[0.08108661]\n",
            "\n",
            "\n",
            "[  1 109 228 540 237 635 241 423 340  89 298   0   0   0   0   0   0   0\n",
            "   0   0   0   0   0   0   0   0   0   0   0   0   0   0   0   0   0   0\n",
            "   0   0   0   0   0   0   0   0   0   0   0   0   0   0]\n",
            "the host seated us immediately\n",
            "[0.35230753]\n",
            "\n",
            "\n",
            "[154 242  47 635 341  12 569 547 147 319 775 125  85   0   0   0   0   0\n",
            "   0   0   0   0   0   0   0   0   0   0   0   0   0   0   0   0   0   0\n",
            "   0   0   0   0   0   0   0   0   0   0   0   0   0   0]\n",
            "they gave us free chocolate cake\n",
            "[0.6184559]\n",
            "\n",
            "\n",
            "[158 190 853 782   8 607 775 210 232 146 775 470  67 305 101  15   1 328\n",
            " 296  26  19   1 661 641 195   0   0   0   0   0   0   0   0   0   0   0\n",
            "   0   0   0   0   0   0   0   0   0   0   0   0   0   0]\n",
            "we couldn't hear each other talk because of the shouting in the kitchen\n",
            "[0.01762616]\n",
            "\n",
            "\n"
          ],
          "name": "stdout"
        }
      ]
    },
    {
      "cell_type": "code",
      "metadata": {
        "id": "oSLR6Z9XgmMA"
      },
      "source": [
        "def fit_model_now (model, sentences) :\n",
        "  model.compile(loss='binary_crossentropy',optimizer='adam',metrics=['accuracy'])\n",
        "  model.summary()\n",
        "  history = model.fit(training_sequences, training_labels_final, epochs=num_epochs, \n",
        "                      validation_data=(testing_sequences, testing_labels_final))\n",
        "  return history"
      ],
      "execution_count": 20,
      "outputs": []
    },
    {
      "cell_type": "code",
      "metadata": {
        "id": "-ljtO4BOgoku"
      },
      "source": [
        "def plot_results (history):\n",
        "  plot_graphs(history, \"accuracy\")\n",
        "  plot_graphs(history, \"loss\")"
      ],
      "execution_count": 21,
      "outputs": []
    },
    {
      "cell_type": "code",
      "metadata": {
        "id": "7ttJjN7igpcy"
      },
      "source": [
        "def fit_model_and_show_results (model, sentences):\n",
        "  history = fit_model_now(model, sentences)\n",
        "  plot_results(history)\n",
        "  predict_review(model, sentences)"
      ],
      "execution_count": 22,
      "outputs": []
    },
    {
      "cell_type": "markdown",
      "metadata": {
        "id": "iImEoeuzg9Xx"
      },
      "source": [
        "# Add a bidirectional LSTM"
      ]
    },
    {
      "cell_type": "code",
      "metadata": {
        "colab": {
          "base_uri": "https://localhost:8080/",
          "height": 1000
        },
        "id": "0TnnxQnPgqky",
        "outputId": "039d47f1-453f-4db1-c650-69479830d298"
      },
      "source": [
        "model_bidi_lstm = tf.keras.Sequential([\n",
        "    tf.keras.layers.Embedding(vocab_size,\n",
        "                              embedding_dim,\n",
        "                              input_length = max_length),\n",
        "    tf.keras.layers.Bidirectional(tf.keras.layers.LSTM(embedding_dim)),\n",
        "    tf.keras.layers.Dense(6,activation='relu'),\n",
        "    tf.keras.layers.Dense(1, activation='sigmoid')\n",
        "])\n",
        "\n",
        "fit_model_and_show_results(model_bidi_lstm,fake_reviews)"
      ],
      "execution_count": 24,
      "outputs": [
        {
          "output_type": "stream",
          "text": [
            "Model: \"sequential_1\"\n",
            "_________________________________________________________________\n",
            "Layer (type)                 Output Shape              Param #   \n",
            "=================================================================\n",
            "embedding_1 (Embedding)      (None, 50, 16)            16000     \n",
            "_________________________________________________________________\n",
            "bidirectional (Bidirectional (None, 32)                4224      \n",
            "_________________________________________________________________\n",
            "dense_2 (Dense)              (None, 6)                 198       \n",
            "_________________________________________________________________\n",
            "dense_3 (Dense)              (None, 1)                 7         \n",
            "=================================================================\n",
            "Total params: 20,429\n",
            "Trainable params: 20,429\n",
            "Non-trainable params: 0\n",
            "_________________________________________________________________\n",
            "Epoch 1/30\n",
            "50/50 [==============================] - 32s 22ms/step - loss: 0.6913 - accuracy: 0.5149 - val_loss: 0.6972 - val_accuracy: 0.4311\n",
            "Epoch 2/30\n",
            "50/50 [==============================] - 0s 9ms/step - loss: 0.6561 - accuracy: 0.6000 - val_loss: 0.6178 - val_accuracy: 0.6742\n",
            "Epoch 3/30\n",
            "50/50 [==============================] - 0s 9ms/step - loss: 0.4666 - accuracy: 0.8299 - val_loss: 0.5215 - val_accuracy: 0.7794\n",
            "Epoch 4/30\n",
            "50/50 [==============================] - 0s 9ms/step - loss: 0.3204 - accuracy: 0.8779 - val_loss: 0.5033 - val_accuracy: 0.7820\n",
            "Epoch 5/30\n",
            "50/50 [==============================] - 0s 9ms/step - loss: 0.2291 - accuracy: 0.9312 - val_loss: 0.6268 - val_accuracy: 0.7594\n",
            "Epoch 6/30\n",
            "50/50 [==============================] - 0s 9ms/step - loss: 0.2089 - accuracy: 0.9288 - val_loss: 0.6272 - val_accuracy: 0.7669\n",
            "Epoch 7/30\n",
            "50/50 [==============================] - 0s 10ms/step - loss: 0.1592 - accuracy: 0.9543 - val_loss: 0.6714 - val_accuracy: 0.7644\n",
            "Epoch 8/30\n",
            "50/50 [==============================] - 0s 10ms/step - loss: 0.1616 - accuracy: 0.9489 - val_loss: 0.8160 - val_accuracy: 0.7719\n",
            "Epoch 9/30\n",
            "50/50 [==============================] - 0s 9ms/step - loss: 0.1379 - accuracy: 0.9593 - val_loss: 0.8567 - val_accuracy: 0.7719\n",
            "Epoch 10/30\n",
            "50/50 [==============================] - 0s 9ms/step - loss: 0.1138 - accuracy: 0.9700 - val_loss: 0.9878 - val_accuracy: 0.7619\n",
            "Epoch 11/30\n",
            "50/50 [==============================] - 0s 9ms/step - loss: 0.1114 - accuracy: 0.9786 - val_loss: 0.9750 - val_accuracy: 0.7694\n",
            "Epoch 12/30\n",
            "50/50 [==============================] - 0s 9ms/step - loss: 0.0888 - accuracy: 0.9836 - val_loss: 1.0858 - val_accuracy: 0.7769\n",
            "Epoch 13/30\n",
            "50/50 [==============================] - 0s 9ms/step - loss: 0.0566 - accuracy: 0.9911 - val_loss: 1.1586 - val_accuracy: 0.7744\n",
            "Epoch 14/30\n",
            "50/50 [==============================] - 0s 10ms/step - loss: 0.0872 - accuracy: 0.9818 - val_loss: 1.2932 - val_accuracy: 0.7744\n",
            "Epoch 15/30\n",
            "50/50 [==============================] - 0s 9ms/step - loss: 0.0650 - accuracy: 0.9869 - val_loss: 1.3619 - val_accuracy: 0.7644\n",
            "Epoch 16/30\n",
            "50/50 [==============================] - 0s 9ms/step - loss: 0.0768 - accuracy: 0.9846 - val_loss: 1.3988 - val_accuracy: 0.7619\n",
            "Epoch 17/30\n",
            "50/50 [==============================] - 0s 9ms/step - loss: 0.0659 - accuracy: 0.9871 - val_loss: 1.4312 - val_accuracy: 0.7594\n",
            "Epoch 18/30\n",
            "50/50 [==============================] - 0s 9ms/step - loss: 0.1240 - accuracy: 0.9598 - val_loss: 1.2401 - val_accuracy: 0.7669\n",
            "Epoch 19/30\n",
            "50/50 [==============================] - 0s 9ms/step - loss: 0.0779 - accuracy: 0.9848 - val_loss: 1.5487 - val_accuracy: 0.7694\n",
            "Epoch 20/30\n",
            "50/50 [==============================] - 0s 9ms/step - loss: 0.0526 - accuracy: 0.9913 - val_loss: 1.5661 - val_accuracy: 0.7469\n",
            "Epoch 21/30\n",
            "50/50 [==============================] - 0s 10ms/step - loss: 0.0635 - accuracy: 0.9844 - val_loss: 1.5918 - val_accuracy: 0.7719\n",
            "Epoch 22/30\n",
            "50/50 [==============================] - 0s 9ms/step - loss: 0.0550 - accuracy: 0.9899 - val_loss: 1.7141 - val_accuracy: 0.7769\n",
            "Epoch 23/30\n",
            "50/50 [==============================] - 0s 9ms/step - loss: 0.0493 - accuracy: 0.9909 - val_loss: 1.7334 - val_accuracy: 0.7694\n",
            "Epoch 24/30\n",
            "50/50 [==============================] - 0s 9ms/step - loss: 0.0464 - accuracy: 0.9916 - val_loss: 1.8157 - val_accuracy: 0.7744\n",
            "Epoch 25/30\n",
            "50/50 [==============================] - 0s 9ms/step - loss: 0.0368 - accuracy: 0.9936 - val_loss: 1.8218 - val_accuracy: 0.7619\n",
            "Epoch 26/30\n",
            "50/50 [==============================] - 0s 10ms/step - loss: 0.0456 - accuracy: 0.9914 - val_loss: 1.8508 - val_accuracy: 0.7744\n",
            "Epoch 27/30\n",
            "50/50 [==============================] - 0s 9ms/step - loss: 0.0329 - accuracy: 0.9944 - val_loss: 1.8711 - val_accuracy: 0.7669\n",
            "Epoch 28/30\n",
            "50/50 [==============================] - 0s 9ms/step - loss: 0.0417 - accuracy: 0.9922 - val_loss: 1.9631 - val_accuracy: 0.7594\n",
            "Epoch 29/30\n",
            "50/50 [==============================] - 0s 9ms/step - loss: 0.0432 - accuracy: 0.9922 - val_loss: 1.8356 - val_accuracy: 0.7719\n",
            "Epoch 30/30\n",
            "50/50 [==============================] - 0s 9ms/step - loss: 0.0386 - accuracy: 0.9929 - val_loss: 1.9370 - val_accuracy: 0.7719\n"
          ],
          "name": "stdout"
        },
        {
          "output_type": "display_data",
          "data": {
            "image/png": "[encoded data removed]",
            "text/plain": [
              "<Figure size 432x288 with 1 Axes>"
            ]
          },
          "metadata": {
            "tags": [],
            "needs_background": "light"
          }
        },
        {
          "output_type": "display_data",
          "data": {
            "image/png": "[encoded data removed]",
            "text/plain": [
              "<Figure size 432x288 with 1 Axes>"
            ]
          },
          "metadata": {
            "tags": [],
            "needs_background": "light"
          }
        },
        {
          "output_type": "stream",
          "text": [
            "[  4 281  16  25   0   0   0   0   0   0   0   0   0   0   0   0   0   0\n",
            "   0   0   0   0   0   0   0   0   0   0   0   0   0   0   0   0   0   0\n",
            "   0   0   0   0   0   0   0   0   0   0   0   0   0   0]\n",
            "I love this phone\n",
            "[0.9999082]\n",
            "\n",
            "\n",
            "[812 227 864 100 775   9 525 843   0   0   0   0   0   0   0   0   0   0\n",
            "   0   0   0   0   0   0   0   0   0   0   0   0   0   0   0   0   0   0\n",
            "   0   0   0   0   0   0   0   0   0   0   0   0   0   0]\n",
            "Everything was cold\n",
            "[0.01775151]\n",
            "\n",
            "\n",
            "[812 227 864 100 775   9 109   8 333 731  24  61   4 171  59  77   0   0\n",
            "   0   0   0   0   0   0   0   0   0   0   0   0   0   0   0   0   0   0\n",
            "   0   0   0   0   0   0   0   0   0   0   0   0   0   0]\n",
            "Everything was hot exactly as I wanted\n",
            "[0.02508633]\n",
            "\n",
            "\n",
            "[812 227 864 100 775   9 157 359 853   0   0   0   0   0   0   0   0   0\n",
            "   0   0   0   0   0   0   0   0   0   0   0   0   0   0   0   0   0   0\n",
            "   0   0   0   0   0   0   0   0   0   0   0   0   0   0]\n",
            "Everything was green\n",
            "[0.01957637]\n",
            "\n",
            "\n",
            "[  1 109 228 540 237 635 241 423 340  89 298   0   0   0   0   0   0   0\n",
            "   0   0   0   0   0   0   0   0   0   0   0   0   0   0   0   0   0   0\n",
            "   0   0   0   0   0   0   0   0   0   0   0   0   0   0]\n",
            "the host seated us immediately\n",
            "[0.9968458]\n",
            "\n",
            "\n",
            "[154 242  47 635 341  12 569 547 147 319 775 125  85   0   0   0   0   0\n",
            "   0   0   0   0   0   0   0   0   0   0   0   0   0   0   0   0   0   0\n",
            "   0   0   0   0   0   0   0   0   0   0   0   0   0   0]\n",
            "they gave us free chocolate cake\n",
            "[0.9812383]\n",
            "\n",
            "\n",
            "[158 190 853 782   8 607 775 210 232 146 775 470  67 305 101  15   1 328\n",
            " 296  26  19   1 661 641 195   0   0   0   0   0   0   0   0   0   0   0\n",
            "   0   0   0   0   0   0   0   0   0   0   0   0   0   0]\n",
            "we couldn't hear each other talk because of the shouting in the kitchen\n",
            "[0.0124403]\n",
            "\n",
            "\n"
          ],
          "name": "stdout"
        }
      ]
    },
    {
      "cell_type": "markdown",
      "metadata": {
        "id": "nmfiLKi6iDds"
      },
      "source": [
        "# Use a multiple bidirectional layers"
      ]
    },
    {
      "cell_type": "code",
      "metadata": {
        "colab": {
          "base_uri": "https://localhost:8080/",
          "height": 1000
        },
        "id": "pvhFf8MghnQu",
        "outputId": "0b8b1022-827b-4e31-c4e3-e7bf7db4a456"
      },
      "source": [
        "model_multiple_bidi_lstm = tf.keras.Sequential([\n",
        "    tf.keras.layers.Embedding(vocab_size, embedding_dim, input_length=max_length),\n",
        "    tf.keras.layers.Bidirectional(tf.keras.layers.LSTM(embedding_dim, \n",
        "                                                       return_sequences=True)), \n",
        "    tf.keras.layers.Bidirectional(tf.keras.layers.LSTM(embedding_dim)),\n",
        "    tf.keras.layers.Dense(6, activation='relu'),\n",
        "    tf.keras.layers.Dense(1, activation='sigmoid')\n",
        "])\n",
        "\n",
        "fit_model_and_show_results(model_multiple_bidi_lstm, fake_reviews)"
      ],
      "execution_count": 25,
      "outputs": [
        {
          "output_type": "stream",
          "text": [
            "Model: \"sequential_2\"\n",
            "_________________________________________________________________\n",
            "Layer (type)                 Output Shape              Param #   \n",
            "=================================================================\n",
            "embedding_2 (Embedding)      (None, 50, 16)            16000     \n",
            "_________________________________________________________________\n",
            "bidirectional_1 (Bidirection (None, 50, 32)            4224      \n",
            "_________________________________________________________________\n",
            "bidirectional_2 (Bidirection (None, 32)                6272      \n",
            "_________________________________________________________________\n",
            "dense_4 (Dense)              (None, 6)                 198       \n",
            "_________________________________________________________________\n",
            "dense_5 (Dense)              (None, 1)                 7         \n",
            "=================================================================\n",
            "Total params: 26,701\n",
            "Trainable params: 26,701\n",
            "Non-trainable params: 0\n",
            "_________________________________________________________________\n",
            "Epoch 1/30\n",
            "50/50 [==============================] - 6s 37ms/step - loss: 0.6924 - accuracy: 0.5355 - val_loss: 0.6992 - val_accuracy: 0.4110\n",
            "Epoch 2/30\n",
            "50/50 [==============================] - 1s 14ms/step - loss: 0.6827 - accuracy: 0.5134 - val_loss: 0.6431 - val_accuracy: 0.6892\n",
            "Epoch 3/30\n",
            "50/50 [==============================] - 1s 14ms/step - loss: 0.5237 - accuracy: 0.7784 - val_loss: 0.5165 - val_accuracy: 0.7544\n",
            "Epoch 4/30\n",
            "50/50 [==============================] - 1s 14ms/step - loss: 0.3478 - accuracy: 0.8583 - val_loss: 0.5961 - val_accuracy: 0.7193\n",
            "Epoch 5/30\n",
            "50/50 [==============================] - 1s 14ms/step - loss: 0.2706 - accuracy: 0.9040 - val_loss: 0.5971 - val_accuracy: 0.7544\n",
            "Epoch 6/30\n",
            "50/50 [==============================] - 1s 14ms/step - loss: 0.1969 - accuracy: 0.9337 - val_loss: 0.7537 - val_accuracy: 0.7293\n",
            "Epoch 7/30\n",
            "50/50 [==============================] - 1s 14ms/step - loss: 0.1310 - accuracy: 0.9617 - val_loss: 0.8905 - val_accuracy: 0.7143\n",
            "Epoch 8/30\n",
            "50/50 [==============================] - 1s 14ms/step - loss: 0.1050 - accuracy: 0.9732 - val_loss: 0.9366 - val_accuracy: 0.7193\n",
            "Epoch 9/30\n",
            "50/50 [==============================] - 1s 15ms/step - loss: 0.1011 - accuracy: 0.9736 - val_loss: 0.8915 - val_accuracy: 0.7318\n",
            "Epoch 10/30\n",
            "50/50 [==============================] - 1s 15ms/step - loss: 0.0736 - accuracy: 0.9849 - val_loss: 0.9873 - val_accuracy: 0.7343\n",
            "Epoch 11/30\n",
            "50/50 [==============================] - 1s 14ms/step - loss: 0.0664 - accuracy: 0.9862 - val_loss: 1.0599 - val_accuracy: 0.7318\n",
            "Epoch 12/30\n",
            "50/50 [==============================] - 1s 14ms/step - loss: 0.0932 - accuracy: 0.9773 - val_loss: 1.0919 - val_accuracy: 0.7293\n",
            "Epoch 13/30\n",
            "50/50 [==============================] - 1s 14ms/step - loss: 0.1408 - accuracy: 0.9678 - val_loss: 0.8757 - val_accuracy: 0.7243\n",
            "Epoch 14/30\n",
            "50/50 [==============================] - 1s 14ms/step - loss: 0.0882 - accuracy: 0.9799 - val_loss: 0.8702 - val_accuracy: 0.7519\n",
            "Epoch 15/30\n",
            "50/50 [==============================] - 1s 14ms/step - loss: 0.0719 - accuracy: 0.9851 - val_loss: 0.9447 - val_accuracy: 0.7569\n",
            "Epoch 16/30\n",
            "50/50 [==============================] - 1s 14ms/step - loss: 0.0660 - accuracy: 0.9845 - val_loss: 1.1966 - val_accuracy: 0.6867\n",
            "Epoch 17/30\n",
            "50/50 [==============================] - 1s 14ms/step - loss: 0.1207 - accuracy: 0.9647 - val_loss: 0.8599 - val_accuracy: 0.7444\n",
            "Epoch 18/30\n",
            "50/50 [==============================] - 1s 14ms/step - loss: 0.0666 - accuracy: 0.9859 - val_loss: 0.9387 - val_accuracy: 0.7544\n",
            "Epoch 19/30\n",
            "50/50 [==============================] - 1s 14ms/step - loss: 0.0581 - accuracy: 0.9883 - val_loss: 1.0636 - val_accuracy: 0.7444\n",
            "Epoch 20/30\n",
            "50/50 [==============================] - 1s 14ms/step - loss: 0.0485 - accuracy: 0.9890 - val_loss: 0.9538 - val_accuracy: 0.7444\n",
            "Epoch 21/30\n",
            "50/50 [==============================] - 1s 14ms/step - loss: 0.0550 - accuracy: 0.9854 - val_loss: 1.2126 - val_accuracy: 0.7243\n",
            "Epoch 22/30\n",
            "50/50 [==============================] - 1s 14ms/step - loss: 0.0641 - accuracy: 0.9866 - val_loss: 1.0568 - val_accuracy: 0.7569\n",
            "Epoch 23/30\n",
            "50/50 [==============================] - 1s 14ms/step - loss: 0.0733 - accuracy: 0.9833 - val_loss: 1.2156 - val_accuracy: 0.7393\n",
            "Epoch 24/30\n",
            "50/50 [==============================] - 1s 14ms/step - loss: 0.0473 - accuracy: 0.9908 - val_loss: 1.1953 - val_accuracy: 0.7494\n",
            "Epoch 25/30\n",
            "50/50 [==============================] - 1s 14ms/step - loss: 0.0396 - accuracy: 0.9925 - val_loss: 1.2030 - val_accuracy: 0.7494\n",
            "Epoch 26/30\n",
            "50/50 [==============================] - 1s 14ms/step - loss: 0.0502 - accuracy: 0.9896 - val_loss: 1.2253 - val_accuracy: 0.7494\n",
            "Epoch 27/30\n",
            "50/50 [==============================] - 1s 14ms/step - loss: 0.0404 - accuracy: 0.9922 - val_loss: 1.2316 - val_accuracy: 0.7494\n",
            "Epoch 28/30\n",
            "50/50 [==============================] - 1s 14ms/step - loss: 0.0396 - accuracy: 0.9922 - val_loss: 1.2371 - val_accuracy: 0.7494\n",
            "Epoch 29/30\n",
            "50/50 [==============================] - 1s 14ms/step - loss: 0.0425 - accuracy: 0.9912 - val_loss: 1.2512 - val_accuracy: 0.7494\n",
            "Epoch 30/30\n",
            "50/50 [==============================] - 1s 14ms/step - loss: 0.0267 - accuracy: 0.9952 - val_loss: 1.2615 - val_accuracy: 0.7494\n"
          ],
          "name": "stdout"
        },
        {
          "output_type": "display_data",
          "data": {
            "image/png": "[encoded data removed]",
            "text/plain": [
              "<Figure size 432x288 with 1 Axes>"
            ]
          },
          "metadata": {
            "tags": [],
            "needs_background": "light"
          }
        },
        {
          "output_type": "display_data",
          "data": {
            "image/png": "[encoded data removed]",
            "text/plain": [
              "<Figure size 432x288 with 1 Axes>"
            ]
          },
          "metadata": {
            "tags": [],
            "needs_background": "light"
          }
        },
        {
          "output_type": "stream",
          "text": [
            "[  4 281  16  25   0   0   0   0   0   0   0   0   0   0   0   0   0   0\n",
            "   0   0   0   0   0   0   0   0   0   0   0   0   0   0   0   0   0   0\n",
            "   0   0   0   0   0   0   0   0   0   0   0   0   0   0]\n",
            "I love this phone\n",
            "[0.9995795]\n",
            "\n",
            "\n",
            "[812 227 864 100 775   9 525 843   0   0   0   0   0   0   0   0   0   0\n",
            "   0   0   0   0   0   0   0   0   0   0   0   0   0   0   0   0   0   0\n",
            "   0   0   0   0   0   0   0   0   0   0   0   0   0   0]\n",
            "Everything was cold\n",
            "[0.01843761]\n",
            "\n",
            "\n",
            "[812 227 864 100 775   9 109   8 333 731  24  61   4 171  59  77   0   0\n",
            "   0   0   0   0   0   0   0   0   0   0   0   0   0   0   0   0   0   0\n",
            "   0   0   0   0   0   0   0   0   0   0   0   0   0   0]\n",
            "Everything was hot exactly as I wanted\n",
            "[0.931723]\n",
            "\n",
            "\n",
            "[812 227 864 100 775   9 157 359 853   0   0   0   0   0   0   0   0   0\n",
            "   0   0   0   0   0   0   0   0   0   0   0   0   0   0   0   0   0   0\n",
            "   0   0   0   0   0   0   0   0   0   0   0   0   0   0]\n",
            "Everything was green\n",
            "[0.01650926]\n",
            "\n",
            "\n",
            "[  1 109 228 540 237 635 241 423 340  89 298   0   0   0   0   0   0   0\n",
            "   0   0   0   0   0   0   0   0   0   0   0   0   0   0   0   0   0   0\n",
            "   0   0   0   0   0   0   0   0   0   0   0   0   0   0]\n",
            "the host seated us immediately\n",
            "[0.9985812]\n",
            "\n",
            "\n",
            "[154 242  47 635 341  12 569 547 147 319 775 125  85   0   0   0   0   0\n",
            "   0   0   0   0   0   0   0   0   0   0   0   0   0   0   0   0   0   0\n",
            "   0   0   0   0   0   0   0   0   0   0   0   0   0   0]\n",
            "they gave us free chocolate cake\n",
            "[0.9995115]\n",
            "\n",
            "\n",
            "[158 190 853 782   8 607 775 210 232 146 775 470  67 305 101  15   1 328\n",
            " 296  26  19   1 661 641 195   0   0   0   0   0   0   0   0   0   0   0\n",
            "   0   0   0   0   0   0   0   0   0   0   0   0   0   0]\n",
            "we couldn't hear each other talk because of the shouting in the kitchen\n",
            "[0.02078018]\n",
            "\n",
            "\n"
          ],
          "name": "stdout"
        }
      ]
    },
    {
      "cell_type": "markdown",
      "metadata": {
        "id": "fk9qSxXfiW-w"
      },
      "source": [
        "# Lets try it on some reviews"
      ]
    },
    {
      "cell_type": "code",
      "metadata": {
        "id": "6KfnD5tniJJe"
      },
      "source": [
        "my_reviews =[\"lovely\", \"dreadful\", \"stay away\",\n",
        "             \"everything was hot exactly as I wanted\",\n",
        "             \"everything was not exactly as I wanted\",\n",
        "             \"they gave us free chocolate cake\",\n",
        "             \"I've never eaten anything so spicy in my life, my throat burned for hours\",\n",
        "             \"for a phone that is as expensive as this one I expect it to be much easier to use than this thing is\",\n",
        "             \"we left there very full for a low price so I'd say you just can't go wrong at this place\",\n",
        "             \"that place does not have quality meals and it isn't a good place to go for dinner\",\n",
        "             ]"
      ],
      "execution_count": 26,
      "outputs": []
    },
    {
      "cell_type": "code",
      "metadata": {
        "colab": {
          "base_uri": "https://localhost:8080/"
        },
        "id": "xObe00hFibmX",
        "outputId": "b53fe078-282b-4139-a56e-60a3370f7fdb"
      },
      "source": [
        "print(\"===================================\\n\",\"Embeddings only:\\n\", \"===================================\",)\n",
        "predict_review(model, my_reviews, show_padded_sequence=False)"
      ],
      "execution_count": 27,
      "outputs": [
        {
          "output_type": "stream",
          "text": [
            "===================================\n",
            " Embeddings only:\n",
            " ===================================\n",
            "lovely\n",
            "[0.85540277]\n",
            "\n",
            "\n",
            "dreadful\n",
            "[0.28800008]\n",
            "\n",
            "\n",
            "stay away\n",
            "[0.5595506]\n",
            "\n",
            "\n",
            "everything was hot exactly as I wanted\n",
            "[0.6252265]\n",
            "\n",
            "\n",
            "everything was not exactly as I wanted\n",
            "[0.38825086]\n",
            "\n",
            "\n",
            "they gave us free chocolate cake\n",
            "[0.6184559]\n",
            "\n",
            "\n",
            "I've never eaten anything so spicy in my life, my throat burned for hours\n",
            "[0.02864846]\n",
            "\n",
            "\n",
            "for a phone that is as expensive as this one I expect it to be much easier to use than this thing is\n",
            "[0.5557066]\n",
            "\n",
            "\n",
            "we left there very full for a low price so I'd say you just can't go wrong at this place\n",
            "[0.7652648]\n",
            "\n",
            "\n",
            "that place does not have quality meals and it isn't a good place to go for dinner\n",
            "[0.7608553]\n",
            "\n",
            "\n"
          ],
          "name": "stdout"
        }
      ]
    },
    {
      "cell_type": "code",
      "metadata": {
        "colab": {
          "base_uri": "https://localhost:8080/"
        },
        "id": "uR9H9li7idjv",
        "outputId": "99c21338-3b70-49b0-b688-bc3331cad9ad"
      },
      "source": [
        "print(\"===================================\\n\", \"With a single bidirectional LSTM:\\n\", \"===================================\")\n",
        "predict_review(model_bidi_lstm, my_reviews, show_padded_sequence=False)"
      ],
      "execution_count": 28,
      "outputs": [
        {
          "output_type": "stream",
          "text": [
            "===================================\n",
            " With a single bidirectional LSTM:\n",
            " ===================================\n",
            "lovely\n",
            "[0.9997712]\n",
            "\n",
            "\n",
            "dreadful\n",
            "[0.02107154]\n",
            "\n",
            "\n",
            "stay away\n",
            "[0.6031597]\n",
            "\n",
            "\n",
            "everything was hot exactly as I wanted\n",
            "[0.41754243]\n",
            "\n",
            "\n",
            "everything was not exactly as I wanted\n",
            "[0.01806236]\n",
            "\n",
            "\n",
            "they gave us free chocolate cake\n",
            "[0.9812383]\n",
            "\n",
            "\n",
            "I've never eaten anything so spicy in my life, my throat burned for hours\n",
            "[0.28498024]\n",
            "\n",
            "\n",
            "for a phone that is as expensive as this one I expect it to be much easier to use than this thing is\n",
            "[0.10624235]\n",
            "\n",
            "\n",
            "we left there very full for a low price so I'd say you just can't go wrong at this place\n",
            "[0.99431264]\n",
            "\n",
            "\n",
            "that place does not have quality meals and it isn't a good place to go for dinner\n",
            "[0.01802325]\n",
            "\n",
            "\n"
          ],
          "name": "stdout"
        }
      ]
    },
    {
      "cell_type": "code",
      "metadata": {
        "id": "vRCfi2-_jBOc",
        "outputId": "c4e772b3-ef22-425c-abde-516dc796b0a3",
        "colab": {
          "base_uri": "https://localhost:8080/"
        }
      },
      "source": [
        "print(\"===================================\\n\", \"With a single bidirectional LSTM:\\n\", \"===================================\")\n",
        "predict_review(model_bidi_lstm, my_reviews, show_padded_sequence=False)"
      ],
      "execution_count": 29,
      "outputs": [
        {
          "output_type": "stream",
          "text": [
            "===================================\n",
            " With a single bidirectional LSTM:\n",
            " ===================================\n",
            "lovely\n",
            "[0.9997712]\n",
            "\n",
            "\n",
            "dreadful\n",
            "[0.02107154]\n",
            "\n",
            "\n",
            "stay away\n",
            "[0.6031597]\n",
            "\n",
            "\n",
            "everything was hot exactly as I wanted\n",
            "[0.41754243]\n",
            "\n",
            "\n",
            "everything was not exactly as I wanted\n",
            "[0.01806236]\n",
            "\n",
            "\n",
            "they gave us free chocolate cake\n",
            "[0.9812383]\n",
            "\n",
            "\n",
            "I've never eaten anything so spicy in my life, my throat burned for hours\n",
            "[0.28498024]\n",
            "\n",
            "\n",
            "for a phone that is as expensive as this one I expect it to be much easier to use than this thing is\n",
            "[0.10624235]\n",
            "\n",
            "\n",
            "we left there very full for a low price so I'd say you just can't go wrong at this place\n",
            "[0.99431264]\n",
            "\n",
            "\n",
            "that place does not have quality meals and it isn't a good place to go for dinner\n",
            "[0.01802325]\n",
            "\n",
            "\n"
          ],
          "name": "stdout"
        }
      ]
    },
    {
      "cell_type": "code",
      "metadata": {
        "id": "Z92n3bCKjC-w",
        "outputId": "88687a9c-a5c8-4c58-b57c-f61b6793ce60",
        "colab": {
          "base_uri": "https://localhost:8080/"
        }
      },
      "source": [
        "print(\"===================================\\n\",\"With two bidirectional LSTMs:\\n\", \"===================================\")\n",
        "predict_review(model_multiple_bidi_lstm, my_reviews, show_padded_sequence=False)"
      ],
      "execution_count": 30,
      "outputs": [
        {
          "output_type": "stream",
          "text": [
            "===================================\n",
            " With two bidirectional LSTMs:\n",
            " ===================================\n",
            "lovely\n",
            "[0.9995189]\n",
            "\n",
            "\n",
            "dreadful\n",
            "[0.01065149]\n",
            "\n",
            "\n",
            "stay away\n",
            "[0.01000214]\n",
            "\n",
            "\n",
            "everything was hot exactly as I wanted\n",
            "[0.98021495]\n",
            "\n",
            "\n",
            "everything was not exactly as I wanted\n",
            "[0.01282485]\n",
            "\n",
            "\n",
            "they gave us free chocolate cake\n",
            "[0.9995115]\n",
            "\n",
            "\n",
            "I've never eaten anything so spicy in my life, my throat burned for hours\n",
            "[0.0122883]\n",
            "\n",
            "\n",
            "for a phone that is as expensive as this one I expect it to be much easier to use than this thing is\n",
            "[0.0149143]\n",
            "\n",
            "\n",
            "we left there very full for a low price so I'd say you just can't go wrong at this place\n",
            "[0.98916817]\n",
            "\n",
            "\n",
            "that place does not have quality meals and it isn't a good place to go for dinner\n",
            "[0.018242]\n",
            "\n",
            "\n"
          ],
          "name": "stdout"
        }
      ]
    }
  ]
}
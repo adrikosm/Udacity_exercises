{
  "nbformat": 4,
  "nbformat_minor": 0,
  "metadata": {
    "colab": {
      "name": "NLP_padding.ipynb",
      "provenance": []
    },
    "kernelspec": {
      "name": "python3",
      "display_name": "Python 3"
    },
    "language_info": {
      "name": "python"
    },
    "accelerator": "GPU"
  },
  "cells": [
    {
      "cell_type": "markdown",
      "metadata": {
        "id": "30W1c3hUOZr6"
      },
      "source": [
        "# Imports"
      ]
    },
    {
      "cell_type": "code",
      "metadata": {
        "id": "XP-cQBUuOV1E"
      },
      "source": [
        "import tensorflow as tf\n",
        "import numpy as np\n",
        "import pandas as pd\n",
        "from tensorflow.keras.preprocessing.text import Tokenizer\n",
        "from tensorflow.keras.preprocessing.sequence import pad_sequences"
      ],
      "execution_count": 3,
      "outputs": []
    },
    {
      "cell_type": "markdown",
      "metadata": {
        "id": "sJnqiUG8O_wh"
      },
      "source": [
        "# Sentence"
      ]
    },
    {
      "cell_type": "code",
      "metadata": {
        "colab": {
          "base_uri": "https://localhost:8080/"
        },
        "id": "5RcHKm5qPCME",
        "outputId": "032b2923-65c6-43c3-a689-64ee724696f6"
      },
      "source": [
        "sentences = [\n",
        "    'My favorite food is ice cream',\n",
        "    'do you like ice cream too?',\n",
        "    'My dog likes ice cream!',\n",
        "    \"your favorite flavor of icecream is chocolate\",\n",
        "    \"chocolate isn't good for dogs\",\n",
        "    \"your dog, your cat, and your parrot prefer broccoli\"\n",
        "]\n",
        "print(sentences)"
      ],
      "execution_count": 4,
      "outputs": [
        {
          "output_type": "stream",
          "text": [
            "['My favorite food is ice cream', 'do you like ice cream too?', 'My dog likes ice cream!', 'your favorite flavor of icecream is chocolate', \"chocolate isn't good for dogs\", 'your dog, your cat, and your parrot prefer broccoli']\n"
          ],
          "name": "stdout"
        }
      ]
    },
    {
      "cell_type": "markdown",
      "metadata": {
        "id": "9eUfn1DUQJ4c"
      },
      "source": [
        "# Create the tokenizer and define an out of vocabulary token"
      ]
    },
    {
      "cell_type": "code",
      "metadata": {
        "id": "ssHjjS8dQC0m"
      },
      "source": [
        "tokenizer = Tokenizer(num_words=len(sentences),oov_token=\"<OOV>\")"
      ],
      "execution_count": 5,
      "outputs": []
    },
    {
      "cell_type": "code",
      "metadata": {
        "colab": {
          "base_uri": "https://localhost:8080/"
        },
        "id": "gB5L9_BBQVYe",
        "outputId": "b57a4ff6-7aed-4658-f2a7-b36c4a6ebb2d"
      },
      "source": [
        "tokenizer.fit_on_texts(sentences)\n",
        "word_index = tokenizer.word_index\n",
        "print(word_index)"
      ],
      "execution_count": 6,
      "outputs": [
        {
          "output_type": "stream",
          "text": [
            "{'<OOV>': 1, 'your': 2, 'ice': 3, 'cream': 4, 'my': 5, 'favorite': 6, 'is': 7, 'dog': 8, 'chocolate': 9, 'food': 10, 'do': 11, 'you': 12, 'like': 13, 'too': 14, 'likes': 15, 'flavor': 16, 'of': 17, 'icecream': 18, \"isn't\": 19, 'good': 20, 'for': 21, 'dogs': 22, 'cat': 23, 'and': 24, 'parrot': 25, 'prefer': 26, 'broccoli': 27}\n"
          ],
          "name": "stdout"
        }
      ]
    },
    {
      "cell_type": "code",
      "metadata": {
        "colab": {
          "base_uri": "https://localhost:8080/"
        },
        "id": "bzrmw4xJQkie",
        "outputId": "7be29621-20c3-4d3d-cd5b-30dc773f20d8"
      },
      "source": [
        "sequences = tokenizer.texts_to_sequences(sentences)\n",
        "print(sequences)"
      ],
      "execution_count": 8,
      "outputs": [
        {
          "output_type": "stream",
          "text": [
            "[[5, 1, 1, 1, 3, 4], [1, 1, 1, 3, 4, 1], [5, 1, 1, 3, 4], [2, 1, 1, 1, 1, 1, 1], [1, 1, 1, 1, 1], [2, 1, 2, 1, 1, 2, 1, 1, 1]]\n"
          ],
          "name": "stdout"
        }
      ]
    },
    {
      "cell_type": "markdown",
      "metadata": {
        "id": "1fpY1wyzQsA-"
      },
      "source": [
        "# Add padding"
      ]
    },
    {
      "cell_type": "code",
      "metadata": {
        "colab": {
          "base_uri": "https://localhost:8080/"
        },
        "id": "u7vzQs_4QozH",
        "outputId": "90dbaaf5-4a11-452d-9e5b-84420ba12948"
      },
      "source": [
        "padded = pad_sequences(sequences)\n",
        "print(\"\\n Word Index = \",word_index)\n",
        "print(\"\\n Sequences =\",sequences)\n",
        "print(\"\\n Padded Sequences: \\n\",padded)"
      ],
      "execution_count": 10,
      "outputs": [
        {
          "output_type": "stream",
          "text": [
            "\n",
            " Word Index =  {'<OOV>': 1, 'your': 2, 'ice': 3, 'cream': 4, 'my': 5, 'favorite': 6, 'is': 7, 'dog': 8, 'chocolate': 9, 'food': 10, 'do': 11, 'you': 12, 'like': 13, 'too': 14, 'likes': 15, 'flavor': 16, 'of': 17, 'icecream': 18, \"isn't\": 19, 'good': 20, 'for': 21, 'dogs': 22, 'cat': 23, 'and': 24, 'parrot': 25, 'prefer': 26, 'broccoli': 27}\n",
            "\n",
            " Sequences = [[5, 1, 1, 1, 3, 4], [1, 1, 1, 3, 4, 1], [5, 1, 1, 3, 4], [2, 1, 1, 1, 1, 1, 1], [1, 1, 1, 1, 1], [2, 1, 2, 1, 1, 2, 1, 1, 1]]\n",
            "\n",
            " Padded Sequences:\n",
            " [[0 0 0 5 1 1 1 3 4]\n",
            " [0 0 0 1 1 1 3 4 1]\n",
            " [0 0 0 0 5 1 1 3 4]\n",
            " [0 0 2 1 1 1 1 1 1]\n",
            " [0 0 0 0 1 1 1 1 1]\n",
            " [2 1 2 1 1 2 1 1 1]]\n"
          ],
          "name": "stdout"
        }
      ]
    },
    {
      "cell_type": "code",
      "metadata": {
        "colab": {
          "base_uri": "https://localhost:8080/"
        },
        "id": "6WrQhizvQ8ZL",
        "outputId": "d4b505df-0565-4cdb-cd63-243d8ca5248e"
      },
      "source": [
        "# Specify a max lenght for the padded sequene\n",
        "padded = pad_sequences(sequences,maxlen=15)\n",
        "print(padded)"
      ],
      "execution_count": 11,
      "outputs": [
        {
          "output_type": "stream",
          "text": [
            "[[0 0 0 0 0 0 0 0 0 5 1 1 1 3 4]\n",
            " [0 0 0 0 0 0 0 0 0 1 1 1 3 4 1]\n",
            " [0 0 0 0 0 0 0 0 0 0 5 1 1 3 4]\n",
            " [0 0 0 0 0 0 0 0 2 1 1 1 1 1 1]\n",
            " [0 0 0 0 0 0 0 0 0 0 1 1 1 1 1]\n",
            " [0 0 0 0 0 0 2 1 2 1 1 2 1 1 1]]\n"
          ],
          "name": "stdout"
        }
      ]
    },
    {
      "cell_type": "code",
      "metadata": {
        "colab": {
          "base_uri": "https://localhost:8080/"
        },
        "id": "XoGXIVOqRDPz",
        "outputId": "79d5620a-4259-44dc-d9d1-a7ec4f601f61"
      },
      "source": [
        "# Put the padding at the end of the sequences\n",
        "padded = pad_sequences(sequences,maxlen=15,padding=\"post\")\n",
        "print(padded)"
      ],
      "execution_count": 12,
      "outputs": [
        {
          "output_type": "stream",
          "text": [
            "[[5 1 1 1 3 4 0 0 0 0 0 0 0 0 0]\n",
            " [1 1 1 3 4 1 0 0 0 0 0 0 0 0 0]\n",
            " [5 1 1 3 4 0 0 0 0 0 0 0 0 0 0]\n",
            " [2 1 1 1 1 1 1 0 0 0 0 0 0 0 0]\n",
            " [1 1 1 1 1 0 0 0 0 0 0 0 0 0 0]\n",
            " [2 1 2 1 1 2 1 1 1 0 0 0 0 0 0]]\n"
          ],
          "name": "stdout"
        }
      ]
    },
    {
      "cell_type": "code",
      "metadata": {
        "colab": {
          "base_uri": "https://localhost:8080/"
        },
        "id": "4-E-ATL0RlAE",
        "outputId": "d0309b1a-7370-4f43-f126-1116f8662cfd"
      },
      "source": [
        "# Limit the lenght of the sequences , you will see some sequences get truncated\n",
        "padded = pad_sequences(sequences,maxlen=3)\n",
        "print(padded)"
      ],
      "execution_count": 14,
      "outputs": [
        {
          "output_type": "stream",
          "text": [
            "[[1 3 4]\n",
            " [3 4 1]\n",
            " [1 3 4]\n",
            " [1 1 1]\n",
            " [1 1 1]\n",
            " [1 1 1]]\n"
          ],
          "name": "stdout"
        }
      ]
    },
    {
      "cell_type": "code",
      "metadata": {
        "colab": {
          "base_uri": "https://localhost:8080/"
        },
        "id": "3cNSGeXhRvzm",
        "outputId": "c5bb971a-957c-41bb-b25f-d815cbd45577"
      },
      "source": [
        "# Try turning sentences that contain words that\n",
        "# aren't in the word index into sequences.\n",
        "# Add your own senteces to the test_data\n",
        "test_data = [\n",
        "    \"my best friend's favorite ice cream flavor is strawberry\",\n",
        "    \"my dog's best friend is a manatee\"\n",
        "]\n",
        "print(test_data)\n",
        "# Remind ourselves which number corresponds to the\n",
        "# out of vocabulary token in the word index\n",
        "print(\"<OOV> has the number\", word_index['<OOV>'], \"in the word index.\")\n",
        "\n",
        "# Convert the test sentences to sequences\n",
        "test_seq = tokenizer.texts_to_sequences(test_data)\n",
        "print(\"\\nTest Sequence = \", test_seq)\n",
        "\n",
        "# Pad the new sequences\n",
        "padded = pad_sequences(test_seq, maxlen=10)\n",
        "print(\"\\nPadded Test Sequence: \")\n",
        "\n",
        "# Notice that \"1\" appears in the sequence wherever there's a word \n",
        "# that's not in the word index\n",
        "print(padded)"
      ],
      "execution_count": 15,
      "outputs": [
        {
          "output_type": "stream",
          "text": [
            "[\"my best friend's favorite ice cream flavor is strawberry\", \"my dog's best friend is a manatee\"]\n",
            "<OOV> has the number 1 in the word index.\n",
            "\n",
            "Test Sequence =  [[5, 1, 1, 1, 3, 4, 1, 1, 1], [5, 1, 1, 1, 1, 1, 1]]\n",
            "\n",
            "Padded Test Sequence: \n",
            "[[0 5 1 1 1 3 4 1 1 1]\n",
            " [0 0 0 5 1 1 1 1 1 1]]\n"
          ],
          "name": "stdout"
        }
      ]
    }
  ]
}
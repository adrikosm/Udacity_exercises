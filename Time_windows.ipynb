{
  "nbformat": 4,
  "nbformat_minor": 0,
  "metadata": {
    "colab": {
      "name": "Time_windows.ipynb",
      "provenance": []
    },
    "kernelspec": {
      "name": "python3",
      "display_name": "Python 3"
    },
    "language_info": {
      "name": "python"
    },
    "accelerator": "GPU"
  },
  "cells": [
    {
      "cell_type": "code",
      "metadata": {
        "id": "vWk5DBtePmj-"
      },
      "source": [
        "import tensorflow as tf\n",
        "import numpy as np\n",
        "import pandas as pd\n",
        "import matplotlib.pyplot as plt"
      ],
      "execution_count": null,
      "outputs": []
    },
    {
      "cell_type": "markdown",
      "metadata": {
        "id": "O_pHkzCARJdW"
      },
      "source": [
        "# Time windows\n",
        "train a model to forecast the next step given the previous 20 steps\n",
        "\n",
        "---\n",
        "so lets create a dataset with a 20 step window for training\n"
      ]
    },
    {
      "cell_type": "code",
      "metadata": {
        "colab": {
          "base_uri": "https://localhost:8080/"
        },
        "id": "pkHwMrkBRQvP",
        "outputId": "5933759d-af88-421f-a26a-c5bfd4c1e168"
      },
      "source": [
        "dataset = tf.data.Dataset.range(20)\n",
        "for val in dataset:\n",
        "  print(val.numpy())"
      ],
      "execution_count": null,
      "outputs": [
        {
          "output_type": "stream",
          "text": [
            "0\n",
            "1\n",
            "2\n",
            "3\n",
            "4\n",
            "5\n",
            "6\n",
            "7\n",
            "8\n",
            "9\n",
            "10\n",
            "11\n",
            "12\n",
            "13\n",
            "14\n",
            "15\n",
            "16\n",
            "17\n",
            "18\n",
            "19\n"
          ],
          "name": "stdout"
        }
      ]
    },
    {
      "cell_type": "code",
      "metadata": {
        "colab": {
          "base_uri": "https://localhost:8080/"
        },
        "id": "e0ezcOmTRbtA",
        "outputId": "fd7ad912-8ea1-4150-ac4c-059b86019986"
      },
      "source": [
        "dataset = tf.data.Dataset.range(20)\n",
        "dataset = dataset.window(5,shift=1)\n",
        "for window_dataset in dataset:\n",
        "  for val in window_dataset:\n",
        "    print(val.numpy(),end=' ')\n",
        "  print()"
      ],
      "execution_count": null,
      "outputs": [
        {
          "output_type": "stream",
          "text": [
            "0 1 2 3 4 \n",
            "1 2 3 4 5 \n",
            "2 3 4 5 6 \n",
            "3 4 5 6 7 \n",
            "4 5 6 7 8 \n",
            "5 6 7 8 9 \n",
            "6 7 8 9 10 \n",
            "7 8 9 10 11 \n",
            "8 9 10 11 12 \n",
            "9 10 11 12 13 \n",
            "10 11 12 13 14 \n",
            "11 12 13 14 15 \n",
            "12 13 14 15 16 \n",
            "13 14 15 16 17 \n",
            "14 15 16 17 18 \n",
            "15 16 17 18 19 \n",
            "16 17 18 19 \n",
            "17 18 19 \n",
            "18 19 \n",
            "19 \n"
          ],
          "name": "stdout"
        }
      ]
    },
    {
      "cell_type": "code",
      "metadata": {
        "colab": {
          "base_uri": "https://localhost:8080/"
        },
        "id": "R2mpFFsuRsRz",
        "outputId": "b05fb637-53fc-4e9a-fff4-d1fb0e3ea565"
      },
      "source": [
        "dataset = tf.data.Dataset.range(20)\n",
        "dataset = dataset.window(5, shift=1, drop_remainder=True)\n",
        "for window_dataset in dataset:\n",
        "    for val in window_dataset:\n",
        "        print(val.numpy(), end=\" \")\n",
        "    print()"
      ],
      "execution_count": null,
      "outputs": [
        {
          "output_type": "stream",
          "text": [
            "0 1 2 3 4 \n",
            "1 2 3 4 5 \n",
            "2 3 4 5 6 \n",
            "3 4 5 6 7 \n",
            "4 5 6 7 8 \n",
            "5 6 7 8 9 \n",
            "6 7 8 9 10 \n",
            "7 8 9 10 11 \n",
            "8 9 10 11 12 \n",
            "9 10 11 12 13 \n",
            "10 11 12 13 14 \n",
            "11 12 13 14 15 \n",
            "12 13 14 15 16 \n",
            "13 14 15 16 17 \n",
            "14 15 16 17 18 \n",
            "15 16 17 18 19 \n"
          ],
          "name": "stdout"
        }
      ]
    },
    {
      "cell_type": "code",
      "metadata": {
        "colab": {
          "base_uri": "https://localhost:8080/"
        },
        "id": "F-ZRuw1gSCSZ",
        "outputId": "f7e6bfe9-a318-4cfb-fc13-48ec12c8466e"
      },
      "source": [
        "dataset = tf.data.Dataset.range(20)\n",
        "dataset = dataset.window(5,shift=1,drop_remainder=True)\n",
        "dataset = dataset.flat_map(lambda window: window.batch(5))\n",
        "for window in dataset:\n",
        "  print(window.numpy())"
      ],
      "execution_count": null,
      "outputs": [
        {
          "output_type": "stream",
          "text": [
            "[0 1 2 3 4]\n",
            "[1 2 3 4 5]\n",
            "[2 3 4 5 6]\n",
            "[3 4 5 6 7]\n",
            "[4 5 6 7 8]\n",
            "[5 6 7 8 9]\n"
          ],
          "name": "stdout"
        }
      ]
    },
    {
      "cell_type": "code",
      "metadata": {
        "colab": {
          "base_uri": "https://localhost:8080/"
        },
        "id": "3gKItL17SeF1",
        "outputId": "e6b38d81-89ab-48ec-de0f-71f6f8a47d83"
      },
      "source": [
        "dataset = tf.data.Dataset.range(20)\n",
        "dataset = dataset.window(5,shift=1,drop_remainder=True)\n",
        "dataset = dataset.flat_map(lambda window:window.batch(5))\n",
        "dataset = dataset.map(lambda window : (window[:-1],window[-1:]))\n",
        "\n",
        "for x,y in dataset:\n",
        "  print(x.numpy(),y.numpy())"
      ],
      "execution_count": null,
      "outputs": [
        {
          "output_type": "stream",
          "text": [
            "[0 1 2 3] [4]\n",
            "[1 2 3 4] [5]\n",
            "[2 3 4 5] [6]\n",
            "[3 4 5 6] [7]\n",
            "[4 5 6 7] [8]\n",
            "[5 6 7 8] [9]\n",
            "[6 7 8 9] [10]\n",
            "[ 7  8  9 10] [11]\n",
            "[ 8  9 10 11] [12]\n",
            "[ 9 10 11 12] [13]\n",
            "[10 11 12 13] [14]\n",
            "[11 12 13 14] [15]\n",
            "[12 13 14 15] [16]\n",
            "[13 14 15 16] [17]\n",
            "[14 15 16 17] [18]\n",
            "[15 16 17 18] [19]\n"
          ],
          "name": "stdout"
        }
      ]
    },
    {
      "cell_type": "code",
      "metadata": {
        "colab": {
          "base_uri": "https://localhost:8080/"
        },
        "id": "50VaPuq0S4tx",
        "outputId": "d7f1198e-ed2b-497b-a3b8-91a7cfe332f9"
      },
      "source": [
        "dataset = tf.data.Dataset.range(20)\n",
        "dataset = dataset.window(5,shift=1,drop_remainder=True)\n",
        "dataset = dataset.flat_map(lambda window:window.batch(5))\n",
        "\n",
        "dataset = dataset.map(lambda window:(window[:-1],window[-1:]))\n",
        "dataset = dataset.shuffle(buffer_size=10)\n",
        "\n",
        "for x,y in dataset:\n",
        "  print(x.numpy(),y.numpy())"
      ],
      "execution_count": null,
      "outputs": [
        {
          "output_type": "stream",
          "text": [
            "[0 1 2 3] [4]\n",
            "[ 8  9 10 11] [12]\n",
            "[4 5 6 7] [8]\n",
            "[1 2 3 4] [5]\n",
            "[11 12 13 14] [15]\n",
            "[14 15 16 17] [18]\n",
            "[6 7 8 9] [10]\n",
            "[ 7  8  9 10] [11]\n",
            "[10 11 12 13] [14]\n",
            "[5 6 7 8] [9]\n",
            "[ 9 10 11 12] [13]\n",
            "[15 16 17 18] [19]\n",
            "[13 14 15 16] [17]\n",
            "[12 13 14 15] [16]\n",
            "[3 4 5 6] [7]\n",
            "[2 3 4 5] [6]\n"
          ],
          "name": "stdout"
        }
      ]
    },
    {
      "cell_type": "code",
      "metadata": {
        "colab": {
          "base_uri": "https://localhost:8080/"
        },
        "id": "u1iFvJvyTVfI",
        "outputId": "5adf08de-5518-4841-a216-327ff4529044"
      },
      "source": [
        "dataset = tf.data.Dataset.range(20)\n",
        "dataset = dataset.window(5, shift=1, drop_remainder=True)\n",
        "dataset = dataset.flat_map(lambda window: window.batch(5))\n",
        "dataset = dataset.map(lambda window: (window[:-1], window[-1:]))\n",
        "dataset = dataset.shuffle(buffer_size=20)\n",
        "dataset = dataset.batch(2).prefetch(1)\n",
        "for x,y in dataset:\n",
        "  print(\"x = \",x.numpy())\n",
        "  print(\"y = \",y.numpy())"
      ],
      "execution_count": null,
      "outputs": [
        {
          "output_type": "stream",
          "text": [
            "x =  [[14 15 16 17]\n",
            " [ 5  6  7  8]]\n",
            "y =  [[18]\n",
            " [ 9]]\n",
            "x =  [[ 6  7  8  9]\n",
            " [11 12 13 14]]\n",
            "y =  [[10]\n",
            " [15]]\n",
            "x =  [[0 1 2 3]\n",
            " [4 5 6 7]]\n",
            "y =  [[4]\n",
            " [8]]\n",
            "x =  [[ 9 10 11 12]\n",
            " [ 8  9 10 11]]\n",
            "y =  [[13]\n",
            " [12]]\n",
            "x =  [[12 13 14 15]\n",
            " [13 14 15 16]]\n",
            "y =  [[16]\n",
            " [17]]\n",
            "x =  [[ 7  8  9 10]\n",
            " [ 3  4  5  6]]\n",
            "y =  [[11]\n",
            " [ 7]]\n",
            "x =  [[2 3 4 5]\n",
            " [1 2 3 4]]\n",
            "y =  [[6]\n",
            " [5]]\n",
            "x =  [[10 11 12 13]\n",
            " [15 16 17 18]]\n",
            "y =  [[14]\n",
            " [19]]\n"
          ],
          "name": "stdout"
        }
      ]
    },
    {
      "cell_type": "markdown",
      "metadata": {
        "id": "idfZGxeaV3s7"
      },
      "source": [
        "# Will make any time series into a tensorflow dataset"
      ]
    },
    {
      "cell_type": "code",
      "metadata": {
        "id": "F7bN_iKxUGxX"
      },
      "source": [
        "def window_dataset(series, window_size, batch_size=32,\n",
        "                   shuffle_buffer=1000):\n",
        "    dataset = tf.data.Dataset.from_tensor_slices(series)\n",
        "    dataset = dataset.window(window_size + 1, shift=1, drop_remainder=True)\n",
        "    dataset = dataset.flat_map(lambda window: window.batch(window_size + 1))\n",
        "    dataset = dataset.shuffle(shuffle_buffer)\n",
        "    dataset = dataset.map(lambda window: (window[:-1], window[-1]))\n",
        "    dataset = dataset.batch(batch_size).prefetch(1)\n",
        "    return dataset"
      ],
      "execution_count": 1,
      "outputs": []
    },
    {
      "cell_type": "markdown",
      "metadata": {
        "id": "K8igDp4Q679L"
      },
      "source": [
        "# Make a model forecast "
      ]
    },
    {
      "cell_type": "code",
      "metadata": {
        "id": "cEiPmAg82_-X"
      },
      "source": [
        "def model_forecast(model,series,window_size):\n",
        "  ds = tf.data.Dataset.from_tensor_slices(series)\n",
        "  ds = ds.window(window_size,shift=1,drop_remainder=True)\n",
        "  ds = ds.flat_map(lambda w: w.batch(window_size))\n",
        "  ds = ds.batch(32).prefetch(1)\n",
        "  return model.predict(ds)"
      ],
      "execution_count": 2,
      "outputs": []
    },
    {
      "cell_type": "code",
      "metadata": {
        "id": "sWA0YcLd7YEr"
      },
      "source": [
        ""
      ],
      "execution_count": null,
      "outputs": []
    }
  ]
}